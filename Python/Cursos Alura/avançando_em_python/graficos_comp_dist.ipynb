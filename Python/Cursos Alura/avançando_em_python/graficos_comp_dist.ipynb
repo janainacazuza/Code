{
 "cells": [
  {
   "cell_type": "markdown",
   "metadata": {},
   "source": [
    "# Course DataViz : Comparation and Distribution Graphics"
   ]
  },
  {
   "cell_type": "markdown",
   "metadata": {},
   "source": [
    "### 1. Importing Libraries"
   ]
  },
  {
   "cell_type": "code",
   "execution_count": 1,
   "metadata": {},
   "outputs": [],
   "source": [
    "import pandas as pd\n",
    "import matplotlib.pyplot as plt\n",
    "import seaborn as sns\n"
   ]
  },
  {
   "cell_type": "markdown",
   "metadata": {},
   "source": [
    "### 2. Defining the color palette"
   ]
  },
  {
   "cell_type": "code",
   "execution_count": 2,
   "metadata": {},
   "outputs": [],
   "source": [
    "AZUL1, AZUL2, AZUL3, AZUL4, AZUL5 = '#03045e', '#0077b6', \"#00b4d8\", '#90e0ef', '#CDDBF3'\n",
    "CINZA1, CINZA2, CINZA3, CINZA4, CINZA5 = '#212529', '#495057', '#adb5bd', '#dee2e6', '#f8f9fa'\n",
    "VERMELHO1, LARANJA1, AMARELO1, VERDE1, VERDE2 = '#e76f51', '#f4a261',\t'#e9c46a', '#4c956c', '#2a9d8f'"
   ]
  },
  {
   "cell_type": "markdown",
   "metadata": {},
   "source": [
    "### 3.Loading data "
   ]
  },
  {
   "cell_type": "code",
   "execution_count": 3,
   "metadata": {},
   "outputs": [],
   "source": [
    "data = pd.read_csv('/home/naina/Projects/Python/Cursos Alura/avançando_em_python/relatorio_vendas.csv')"
   ]
  },
  {
   "cell_type": "code",
   "execution_count": 4,
   "metadata": {},
   "outputs": [
    {
     "name": "stdout",
     "output_type": "stream",
     "text": [
      "<class 'pandas.core.frame.DataFrame'>\n",
      "RangeIndex: 8940 entries, 0 to 8939\n",
      "Data columns (total 17 columns):\n",
      " #   Column               Non-Null Count  Dtype  \n",
      "---  ------               --------------  -----  \n",
      " 0   data_pedido          8940 non-null   object \n",
      " 1   data_envio           8940 non-null   object \n",
      " 2   modo_envio           8940 non-null   object \n",
      " 3   nome_cliente         8940 non-null   object \n",
      " 4   segmento_cliente     8940 non-null   object \n",
      " 5   cidade               8940 non-null   object \n",
      " 6   estado               8940 non-null   object \n",
      " 7   regiao               8940 non-null   object \n",
      " 8   departamento         8940 non-null   object \n",
      " 9   tipo_produto         8940 non-null   object \n",
      " 10  preco_base           8940 non-null   float64\n",
      " 11  preco_unit_sem_desc  8940 non-null   float64\n",
      " 12  desconto             8940 non-null   float64\n",
      " 13  preco_unit_venda     8940 non-null   float64\n",
      " 14  quantidade           8940 non-null   int64  \n",
      " 15  vendas               8940 non-null   float64\n",
      " 16  lucro                8940 non-null   float64\n",
      "dtypes: float64(6), int64(1), object(10)\n",
      "memory usage: 1.2+ MB\n"
     ]
    }
   ],
   "source": [
    "data.info()"
   ]
  },
  {
   "cell_type": "markdown",
   "metadata": {},
   "source": [
    "### 4. Convert date columns to datetime format"
   ]
  },
  {
   "cell_type": "code",
   "execution_count": 5,
   "metadata": {},
   "outputs": [],
   "source": [
    "data[\"data_pedido\"] = pd.to_datetime(data[\"data_pedido\"], format=\"%Y-%m-%d\")\n",
    "data[\"data_envio\"] = pd.to_datetime(data[\"data_envio\"], format=\"%Y-%m-%d\")"
   ]
  },
  {
   "cell_type": "code",
   "execution_count": 6,
   "metadata": {},
   "outputs": [
    {
     "name": "stdout",
     "output_type": "stream",
     "text": [
      "<class 'pandas.core.frame.DataFrame'>\n",
      "RangeIndex: 8940 entries, 0 to 8939\n",
      "Data columns (total 17 columns):\n",
      " #   Column               Non-Null Count  Dtype         \n",
      "---  ------               --------------  -----         \n",
      " 0   data_pedido          8940 non-null   datetime64[ns]\n",
      " 1   data_envio           8940 non-null   datetime64[ns]\n",
      " 2   modo_envio           8940 non-null   object        \n",
      " 3   nome_cliente         8940 non-null   object        \n",
      " 4   segmento_cliente     8940 non-null   object        \n",
      " 5   cidade               8940 non-null   object        \n",
      " 6   estado               8940 non-null   object        \n",
      " 7   regiao               8940 non-null   object        \n",
      " 8   departamento         8940 non-null   object        \n",
      " 9   tipo_produto         8940 non-null   object        \n",
      " 10  preco_base           8940 non-null   float64       \n",
      " 11  preco_unit_sem_desc  8940 non-null   float64       \n",
      " 12  desconto             8940 non-null   float64       \n",
      " 13  preco_unit_venda     8940 non-null   float64       \n",
      " 14  quantidade           8940 non-null   int64         \n",
      " 15  vendas               8940 non-null   float64       \n",
      " 16  lucro                8940 non-null   float64       \n",
      "dtypes: datetime64[ns](2), float64(6), int64(1), object(8)\n",
      "memory usage: 1.2+ MB\n"
     ]
    }
   ],
   "source": [
    "data.info()"
   ]
  },
  {
   "cell_type": "markdown",
   "metadata": {},
   "source": [
    "### 5. Creating a dataframe copy to preserve the original dataframe"
   ]
  },
  {
   "cell_type": "code",
   "execution_count": 7,
   "metadata": {},
   "outputs": [],
   "source": [
    "data_year = data.copy()\n"
   ]
  },
  {
   "cell_type": "markdown",
   "metadata": {},
   "source": [
    "### 6. Redefining the dataframe by columns of interest"
   ]
  },
  {
   "cell_type": "code",
   "execution_count": 8,
   "metadata": {},
   "outputs": [],
   "source": [
    "data_year = data_year[['data_pedido', 'vendas']]\n",
    "data_year['year'] = data_year['data_pedido'].dt.year\n",
    "data_year.drop(columns='data_pedido', inplace=True)\n",
    "data_year = data_year.groupby('year').aggregate('sum')"
   ]
  },
  {
   "cell_type": "markdown",
   "metadata": {},
   "source": [
    "### 7. Ploting Graphics"
   ]
  },
  {
   "cell_type": "code",
   "execution_count": 29,
   "metadata": {},
   "outputs": [],
   "source": [
    "def plotting_sales(cores):\n",
    "    fig, ax = plt.subplots(figsize=(10, 4))\n",
    "    sns.set_theme(style='white')\n",
    "    sns.barplot(data=data_year, x=data_year.index, y='vendas', palette=[cores])\n",
    "    ax.set_title('Sales per year - 2016 to 2019', loc='left', fontsize=18, color=CINZA1)\n",
    "    ax.set_xlabel('')\n",
    "    ax.xaxis.set_tick_params(labelsize=14, color=CINZA2)\n",
    "    ax.set_ylabel('')\n",
    "    sns.despine(left=True, bottom=True)\n",
    "    ax.set_yticklabels([])\n",
    "    for i, valor in enumerate(data_year[\"vendas\"]):\n",
    "        qtd = f'R$ {valor:,.0f}'.replace(\",\",\".\")\n",
    "        offset = 1e5\n",
    "        ax.text(i, valor + offset, qtd, color = CINZA2, fontsize =12, ha = \"center\", va = \"center\")\n",
    "plt.show()"
   ]
  },
  {
   "cell_type": "code",
   "execution_count": 30,
   "metadata": {},
   "outputs": [
    {
     "name": "stderr",
     "output_type": "stream",
     "text": [
      "/tmp/ipykernel_9905/2081940591.py:4: FutureWarning: \n",
      "\n",
      "Passing `palette` without assigning `hue` is deprecated and will be removed in v0.14.0. Assign the `x` variable to `hue` and set `legend=False` for the same effect.\n",
      "\n",
      "  sns.barplot(data=data_year, x=data_year.index, y='vendas', palette=[cores])\n",
      "/tmp/ipykernel_9905/2081940591.py:4: UserWarning: \n",
      "The palette list has fewer values (1) than needed (4) and will cycle, which may produce an uninterpretable plot.\n",
      "  sns.barplot(data=data_year, x=data_year.index, y='vendas', palette=[cores])\n"
     ]
    },
    {
     "data": {
      "image/png": "[encoded data removed]",
      "text/plain": [
       "<Figure size 1000x400 with 1 Axes>"
      ]
     },
     "metadata": {},
     "output_type": "display_data"
    }
   ],
   "source": [
    "plotting_sales(AZUL2)"
   ]
  },
  {
   "cell_type": "code",
   "execution_count": 33,
   "metadata": {},
   "outputs": [],
   "source": [
    "cores = []\n",
    "for ano in data_year.index:\n",
    "  if data_year.loc[ano,\"vendas\"] == data_year[\"vendas\"].max():\n",
    "    cores.append(AZUL2)\n",
    "  else:\n",
    "    cores.append(AZUL5)"
   ]
  },
  {
   "cell_type": "code",
   "execution_count": 35,
   "metadata": {},
   "outputs": [
    {
     "name": "stderr",
     "output_type": "stream",
     "text": [
      "/tmp/ipykernel_9905/2081940591.py:4: FutureWarning: \n",
      "\n",
      "Passing `palette` without assigning `hue` is deprecated and will be removed in v0.14.0. Assign the `x` variable to `hue` and set `legend=False` for the same effect.\n",
      "\n",
      "  sns.barplot(data=data_year, x=data_year.index, y='vendas', palette=[cores])\n",
      "/tmp/ipykernel_9905/2081940591.py:4: UserWarning: \n",
      "The palette list has fewer values (1) than needed (4) and will cycle, which may produce an uninterpretable plot.\n",
      "  sns.barplot(data=data_year, x=data_year.index, y='vendas', palette=[cores])\n"
     ]
    },
    {
     "ename": "ValueError",
     "evalue": "Invalid RGBA argument: ['#CDDBF3', '#CDDBF3', '#CDDBF3', '#0077b6']",
     "output_type": "error",
     "traceback": [
      "\u001b[0;31m---------------------------------------------------------------------------\u001b[0m",
      "\u001b[0;31mValueError\u001b[0m                                Traceback (most recent call last)",
      "Cell \u001b[0;32mIn[35], line 1\u001b[0m\n\u001b[0;32m----> 1\u001b[0m ax \u001b[38;5;241m=\u001b[39m \u001b[43mplotting_sales\u001b[49m\u001b[43m(\u001b[49m\u001b[43mcores\u001b[49m\u001b[43m)\u001b[49m\n",
      "Cell \u001b[0;32mIn[29], line 4\u001b[0m, in \u001b[0;36mplotting_sales\u001b[0;34m(cores)\u001b[0m\n\u001b[1;32m      2\u001b[0m fig, ax \u001b[38;5;241m=\u001b[39m plt\u001b[38;5;241m.\u001b[39msubplots(figsize\u001b[38;5;241m=\u001b[39m(\u001b[38;5;241m10\u001b[39m, \u001b[38;5;241m4\u001b[39m))\n\u001b[1;32m      3\u001b[0m sns\u001b[38;5;241m.\u001b[39mset_theme(style\u001b[38;5;241m=\u001b[39m\u001b[38;5;124m'\u001b[39m\u001b[38;5;124mwhite\u001b[39m\u001b[38;5;124m'\u001b[39m)\n\u001b[0;32m----> 4\u001b[0m \u001b[43msns\u001b[49m\u001b[38;5;241;43m.\u001b[39;49m\u001b[43mbarplot\u001b[49m\u001b[43m(\u001b[49m\u001b[43mdata\u001b[49m\u001b[38;5;241;43m=\u001b[39;49m\u001b[43mdata_year\u001b[49m\u001b[43m,\u001b[49m\u001b[43m \u001b[49m\u001b[43mx\u001b[49m\u001b[38;5;241;43m=\u001b[39;49m\u001b[43mdata_year\u001b[49m\u001b[38;5;241;43m.\u001b[39;49m\u001b[43mindex\u001b[49m\u001b[43m,\u001b[49m\u001b[43m \u001b[49m\u001b[43my\u001b[49m\u001b[38;5;241;43m=\u001b[39;49m\u001b[38;5;124;43m'\u001b[39;49m\u001b[38;5;124;43mvendas\u001b[39;49m\u001b[38;5;124;43m'\u001b[39;49m\u001b[43m,\u001b[49m\u001b[43m \u001b[49m\u001b[43mpalette\u001b[49m\u001b[38;5;241;43m=\u001b[39;49m\u001b[43m[\u001b[49m\u001b[43mcores\u001b[49m\u001b[43m]\u001b[49m\u001b[43m)\u001b[49m\n\u001b[1;32m      5\u001b[0m ax\u001b[38;5;241m.\u001b[39mset_title(\u001b[38;5;124m'\u001b[39m\u001b[38;5;124mSales per year - 2016 to 2019\u001b[39m\u001b[38;5;124m'\u001b[39m, loc\u001b[38;5;241m=\u001b[39m\u001b[38;5;124m'\u001b[39m\u001b[38;5;124mleft\u001b[39m\u001b[38;5;124m'\u001b[39m, fontsize\u001b[38;5;241m=\u001b[39m\u001b[38;5;241m18\u001b[39m, color\u001b[38;5;241m=\u001b[39mCINZA1)\n\u001b[1;32m      6\u001b[0m ax\u001b[38;5;241m.\u001b[39mset_xlabel(\u001b[38;5;124m'\u001b[39m\u001b[38;5;124m'\u001b[39m)\n",
      "File \u001b[0;32m~/miniconda3/envs/PythonEnv/lib/python3.12/site-packages/seaborn/categorical.py:2380\u001b[0m, in \u001b[0;36mbarplot\u001b[0;34m(data, x, y, hue, order, hue_order, estimator, errorbar, n_boot, seed, units, weights, orient, color, palette, saturation, fill, hue_norm, width, dodge, gap, log_scale, native_scale, formatter, legend, capsize, err_kws, ci, errcolor, errwidth, ax, **kwargs)\u001b[0m\n\u001b[1;32m   2377\u001b[0m \u001b[38;5;66;03m# Deprecations to remove in v0.15.0.\u001b[39;00m\n\u001b[1;32m   2378\u001b[0m err_kws, capsize \u001b[38;5;241m=\u001b[39m p\u001b[38;5;241m.\u001b[39m_err_kws_backcompat(err_kws, errcolor, errwidth, capsize)\n\u001b[0;32m-> 2380\u001b[0m \u001b[43mp\u001b[49m\u001b[38;5;241;43m.\u001b[39;49m\u001b[43mplot_bars\u001b[49m\u001b[43m(\u001b[49m\n\u001b[1;32m   2381\u001b[0m \u001b[43m    \u001b[49m\u001b[43maggregator\u001b[49m\u001b[38;5;241;43m=\u001b[39;49m\u001b[43maggregator\u001b[49m\u001b[43m,\u001b[49m\n\u001b[1;32m   2382\u001b[0m \u001b[43m    \u001b[49m\u001b[43mdodge\u001b[49m\u001b[38;5;241;43m=\u001b[39;49m\u001b[43mdodge\u001b[49m\u001b[43m,\u001b[49m\n\u001b[1;32m   2383\u001b[0m \u001b[43m    \u001b[49m\u001b[43mwidth\u001b[49m\u001b[38;5;241;43m=\u001b[39;49m\u001b[43mwidth\u001b[49m\u001b[43m,\u001b[49m\n\u001b[1;32m   2384\u001b[0m \u001b[43m    \u001b[49m\u001b[43mgap\u001b[49m\u001b[38;5;241;43m=\u001b[39;49m\u001b[43mgap\u001b[49m\u001b[43m,\u001b[49m\n\u001b[1;32m   2385\u001b[0m \u001b[43m    \u001b[49m\u001b[43mcolor\u001b[49m\u001b[38;5;241;43m=\u001b[39;49m\u001b[43mcolor\u001b[49m\u001b[43m,\u001b[49m\n\u001b[1;32m   2386\u001b[0m \u001b[43m    \u001b[49m\u001b[43mfill\u001b[49m\u001b[38;5;241;43m=\u001b[39;49m\u001b[43mfill\u001b[49m\u001b[43m,\u001b[49m\n\u001b[1;32m   2387\u001b[0m \u001b[43m    \u001b[49m\u001b[43mcapsize\u001b[49m\u001b[38;5;241;43m=\u001b[39;49m\u001b[43mcapsize\u001b[49m\u001b[43m,\u001b[49m\n\u001b[1;32m   2388\u001b[0m \u001b[43m    \u001b[49m\u001b[43merr_kws\u001b[49m\u001b[38;5;241;43m=\u001b[39;49m\u001b[43merr_kws\u001b[49m\u001b[43m,\u001b[49m\n\u001b[1;32m   2389\u001b[0m \u001b[43m    \u001b[49m\u001b[43mplot_kws\u001b[49m\u001b[38;5;241;43m=\u001b[39;49m\u001b[43mkwargs\u001b[49m\u001b[43m,\u001b[49m\n\u001b[1;32m   2390\u001b[0m \u001b[43m\u001b[49m\u001b[43m)\u001b[49m\n\u001b[1;32m   2392\u001b[0m p\u001b[38;5;241m.\u001b[39m_add_axis_labels(ax)\n\u001b[1;32m   2393\u001b[0m p\u001b[38;5;241m.\u001b[39m_adjust_cat_axis(ax, axis\u001b[38;5;241m=\u001b[39mp\u001b[38;5;241m.\u001b[39morient)\n",
      "File \u001b[0;32m~/miniconda3/envs/PythonEnv/lib/python3.12/site-packages/seaborn/categorical.py:1306\u001b[0m, in \u001b[0;36m_CategoricalPlotter.plot_bars\u001b[0;34m(self, aggregator, dodge, gap, width, fill, color, capsize, err_kws, plot_kws)\u001b[0m\n\u001b[1;32m   1301\u001b[0m     bar_func \u001b[38;5;241m=\u001b[39m ax\u001b[38;5;241m.\u001b[39mbarh\n\u001b[1;32m   1302\u001b[0m     kws \u001b[38;5;241m=\u001b[39m \u001b[38;5;28mdict\u001b[39m(\n\u001b[1;32m   1303\u001b[0m         y\u001b[38;5;241m=\u001b[39magg_data[\u001b[38;5;124m\"\u001b[39m\u001b[38;5;124medge\u001b[39m\u001b[38;5;124m\"\u001b[39m], width\u001b[38;5;241m=\u001b[39magg_data[\u001b[38;5;124m\"\u001b[39m\u001b[38;5;124mx\u001b[39m\u001b[38;5;124m\"\u001b[39m], height\u001b[38;5;241m=\u001b[39magg_data[\u001b[38;5;124m\"\u001b[39m\u001b[38;5;124mwidth\u001b[39m\u001b[38;5;124m\"\u001b[39m]\n\u001b[1;32m   1304\u001b[0m     )\n\u001b[0;32m-> 1306\u001b[0m main_color \u001b[38;5;241m=\u001b[39m \u001b[38;5;28;43mself\u001b[39;49m\u001b[38;5;241;43m.\u001b[39;49m\u001b[43m_hue_map\u001b[49m\u001b[43m(\u001b[49m\u001b[43msub_vars\u001b[49m\u001b[43m[\u001b[49m\u001b[38;5;124;43m\"\u001b[39;49m\u001b[38;5;124;43mhue\u001b[39;49m\u001b[38;5;124;43m\"\u001b[39;49m\u001b[43m]\u001b[49m\u001b[43m)\u001b[49m \u001b[38;5;28;01mif\u001b[39;00m \u001b[38;5;124m\"\u001b[39m\u001b[38;5;124mhue\u001b[39m\u001b[38;5;124m\"\u001b[39m \u001b[38;5;129;01min\u001b[39;00m sub_vars \u001b[38;5;28;01melse\u001b[39;00m color\n\u001b[1;32m   1308\u001b[0m \u001b[38;5;66;03m# Set both color and facecolor for property cycle logic\u001b[39;00m\n\u001b[1;32m   1309\u001b[0m kws[\u001b[38;5;124m\"\u001b[39m\u001b[38;5;124malign\u001b[39m\u001b[38;5;124m\"\u001b[39m] \u001b[38;5;241m=\u001b[39m \u001b[38;5;124m\"\u001b[39m\u001b[38;5;124medge\u001b[39m\u001b[38;5;124m\"\u001b[39m\n",
      "File \u001b[0;32m~/miniconda3/envs/PythonEnv/lib/python3.12/site-packages/seaborn/_base.py:85\u001b[0m, in \u001b[0;36mSemanticMapping.__call__\u001b[0;34m(self, key, *args, **kwargs)\u001b[0m\n\u001b[1;32m     83\u001b[0m     \u001b[38;5;28;01mreturn\u001b[39;00m [\u001b[38;5;28mself\u001b[39m\u001b[38;5;241m.\u001b[39m_lookup_single(k, \u001b[38;5;241m*\u001b[39margs, \u001b[38;5;241m*\u001b[39m\u001b[38;5;241m*\u001b[39mkwargs) \u001b[38;5;28;01mfor\u001b[39;00m k \u001b[38;5;129;01min\u001b[39;00m key]\n\u001b[1;32m     84\u001b[0m \u001b[38;5;28;01melse\u001b[39;00m:\n\u001b[0;32m---> 85\u001b[0m     \u001b[38;5;28;01mreturn\u001b[39;00m \u001b[38;5;28;43mself\u001b[39;49m\u001b[38;5;241;43m.\u001b[39;49m\u001b[43m_lookup_single\u001b[49m\u001b[43m(\u001b[49m\u001b[43mkey\u001b[49m\u001b[43m,\u001b[49m\u001b[43m \u001b[49m\u001b[38;5;241;43m*\u001b[39;49m\u001b[43margs\u001b[49m\u001b[43m,\u001b[49m\u001b[43m \u001b[49m\u001b[38;5;241;43m*\u001b[39;49m\u001b[38;5;241;43m*\u001b[39;49m\u001b[43mkwargs\u001b[49m\u001b[43m)\u001b[49m\n",
      "File \u001b[0;32m~/miniconda3/envs/PythonEnv/lib/python3.12/site-packages/seaborn/_base.py:201\u001b[0m, in \u001b[0;36mHueMapping._lookup_single\u001b[0;34m(self, key)\u001b[0m\n\u001b[1;32m    198\u001b[0m         value \u001b[38;5;241m=\u001b[39m \u001b[38;5;28mself\u001b[39m\u001b[38;5;241m.\u001b[39mcmap(normed)\n\u001b[1;32m    200\u001b[0m \u001b[38;5;28;01mif\u001b[39;00m \u001b[38;5;28mself\u001b[39m\u001b[38;5;241m.\u001b[39msaturation \u001b[38;5;241m<\u001b[39m \u001b[38;5;241m1\u001b[39m:\n\u001b[0;32m--> 201\u001b[0m     value \u001b[38;5;241m=\u001b[39m \u001b[43mdesaturate\u001b[49m\u001b[43m(\u001b[49m\u001b[43mvalue\u001b[49m\u001b[43m,\u001b[49m\u001b[43m \u001b[49m\u001b[38;5;28;43mself\u001b[39;49m\u001b[38;5;241;43m.\u001b[39;49m\u001b[43msaturation\u001b[49m\u001b[43m)\u001b[49m\n\u001b[1;32m    203\u001b[0m \u001b[38;5;28;01mreturn\u001b[39;00m value\n",
      "File \u001b[0;32m~/miniconda3/envs/PythonEnv/lib/python3.12/site-packages/seaborn/utils.py:168\u001b[0m, in \u001b[0;36mdesaturate\u001b[0;34m(color, prop)\u001b[0m\n\u001b[1;32m    165\u001b[0m     \u001b[38;5;28;01mraise\u001b[39;00m \u001b[38;5;167;01mValueError\u001b[39;00m(\u001b[38;5;124m\"\u001b[39m\u001b[38;5;124mprop must be between 0 and 1\u001b[39m\u001b[38;5;124m\"\u001b[39m)\n\u001b[1;32m    167\u001b[0m \u001b[38;5;66;03m# Get rgb tuple rep\u001b[39;00m\n\u001b[0;32m--> 168\u001b[0m rgb \u001b[38;5;241m=\u001b[39m \u001b[43mto_rgb\u001b[49m\u001b[43m(\u001b[49m\u001b[43mcolor\u001b[49m\u001b[43m)\u001b[49m\n\u001b[1;32m    170\u001b[0m \u001b[38;5;66;03m# Short circuit to avoid floating point issues\u001b[39;00m\n\u001b[1;32m    171\u001b[0m \u001b[38;5;28;01mif\u001b[39;00m prop \u001b[38;5;241m==\u001b[39m \u001b[38;5;241m1\u001b[39m:\n",
      "File \u001b[0;32m~/miniconda3/envs/PythonEnv/lib/python3.12/site-packages/matplotlib/colors.py:526\u001b[0m, in \u001b[0;36mto_rgb\u001b[0;34m(c)\u001b[0m\n\u001b[1;32m    524\u001b[0m \u001b[38;5;28;01mdef\u001b[39;00m \u001b[38;5;21mto_rgb\u001b[39m(c):\n\u001b[1;32m    525\u001b[0m \u001b[38;5;250m    \u001b[39m\u001b[38;5;124;03m\"\"\"Convert *c* to an RGB color, silently dropping the alpha channel.\"\"\"\u001b[39;00m\n\u001b[0;32m--> 526\u001b[0m     \u001b[38;5;28;01mreturn\u001b[39;00m \u001b[43mto_rgba\u001b[49m\u001b[43m(\u001b[49m\u001b[43mc\u001b[49m\u001b[43m)\u001b[49m[:\u001b[38;5;241m3\u001b[39m]\n",
      "File \u001b[0;32m~/miniconda3/envs/PythonEnv/lib/python3.12/site-packages/matplotlib/colors.py:314\u001b[0m, in \u001b[0;36mto_rgba\u001b[0;34m(c, alpha)\u001b[0m\n\u001b[1;32m    312\u001b[0m     rgba \u001b[38;5;241m=\u001b[39m \u001b[38;5;28;01mNone\u001b[39;00m\n\u001b[1;32m    313\u001b[0m \u001b[38;5;28;01mif\u001b[39;00m rgba \u001b[38;5;129;01mis\u001b[39;00m \u001b[38;5;28;01mNone\u001b[39;00m:  \u001b[38;5;66;03m# Suppress exception chaining of cache lookup failure.\u001b[39;00m\n\u001b[0;32m--> 314\u001b[0m     rgba \u001b[38;5;241m=\u001b[39m \u001b[43m_to_rgba_no_colorcycle\u001b[49m\u001b[43m(\u001b[49m\u001b[43mc\u001b[49m\u001b[43m,\u001b[49m\u001b[43m \u001b[49m\u001b[43malpha\u001b[49m\u001b[43m)\u001b[49m\n\u001b[1;32m    315\u001b[0m     \u001b[38;5;28;01mtry\u001b[39;00m:\n\u001b[1;32m    316\u001b[0m         _colors_full_map\u001b[38;5;241m.\u001b[39mcache[c, alpha] \u001b[38;5;241m=\u001b[39m rgba\n",
      "File \u001b[0;32m~/miniconda3/envs/PythonEnv/lib/python3.12/site-packages/matplotlib/colors.py:404\u001b[0m, in \u001b[0;36m_to_rgba_no_colorcycle\u001b[0;34m(c, alpha)\u001b[0m\n\u001b[1;32m    400\u001b[0m     \u001b[38;5;28;01mraise\u001b[39;00m \u001b[38;5;167;01mValueError\u001b[39;00m(\u001b[38;5;124m\"\u001b[39m\u001b[38;5;124mRGBA sequence should have length 3 or 4\u001b[39m\u001b[38;5;124m\"\u001b[39m)\n\u001b[1;32m    401\u001b[0m \u001b[38;5;28;01mif\u001b[39;00m \u001b[38;5;129;01mnot\u001b[39;00m \u001b[38;5;28mall\u001b[39m(\u001b[38;5;28misinstance\u001b[39m(x, Real) \u001b[38;5;28;01mfor\u001b[39;00m x \u001b[38;5;129;01min\u001b[39;00m c):\n\u001b[1;32m    402\u001b[0m     \u001b[38;5;66;03m# Checks that don't work: `map(float, ...)`, `np.array(..., float)` and\u001b[39;00m\n\u001b[1;32m    403\u001b[0m     \u001b[38;5;66;03m# `np.array(...).astype(float)` would all convert \"0.5\" to 0.5.\u001b[39;00m\n\u001b[0;32m--> 404\u001b[0m     \u001b[38;5;28;01mraise\u001b[39;00m \u001b[38;5;167;01mValueError\u001b[39;00m(\u001b[38;5;124mf\u001b[39m\u001b[38;5;124m\"\u001b[39m\u001b[38;5;124mInvalid RGBA argument: \u001b[39m\u001b[38;5;132;01m{\u001b[39;00morig_c\u001b[38;5;132;01m!r}\u001b[39;00m\u001b[38;5;124m\"\u001b[39m)\n\u001b[1;32m    405\u001b[0m \u001b[38;5;66;03m# Return a tuple to prevent the cached value from being modified.\u001b[39;00m\n\u001b[1;32m    406\u001b[0m c \u001b[38;5;241m=\u001b[39m \u001b[38;5;28mtuple\u001b[39m(\u001b[38;5;28mmap\u001b[39m(\u001b[38;5;28mfloat\u001b[39m, c))\n",
      "\u001b[0;31mValueError\u001b[0m: Invalid RGBA argument: ['#CDDBF3', '#CDDBF3', '#CDDBF3', '#0077b6']"
     ]
    },
    {
     "data": {
      "image/png": "[encoded data removed]",
      "text/plain": [
       "<Figure size 1000x400 with 1 Axes>"
      ]
     },
     "metadata": {},
     "output_type": "display_data"
    }
   ],
   "source": [
    "ax = plotting_sales(cores)"
   ]
  },
  {
   "cell_type": "code",
   "execution_count": 15,
   "metadata": {},
   "outputs": [
    {
     "ename": "AttributeError",
     "evalue": "'NoneType' object has no attribute 'text'",
     "output_type": "error",
     "traceback": [
      "\u001b[0;31m---------------------------------------------------------------------------\u001b[0m",
      "\u001b[0;31mAttributeError\u001b[0m                            Traceback (most recent call last)",
      "Cell \u001b[0;32mIn[15], line 2\u001b[0m\n\u001b[1;32m      1\u001b[0m \u001b[38;5;66;03m# Anotando uma conclusão no gráfico\u001b[39;00m\n\u001b[0;32m----> 2\u001b[0m \u001b[43max\u001b[49m\u001b[38;5;241;43m.\u001b[39;49m\u001b[43mtext\u001b[49m(\u001b[38;5;241m3.5\u001b[39m, \u001b[38;5;241m1.5e6\u001b[39m,\n\u001b[1;32m      3\u001b[0m          \u001b[38;5;124m'\u001b[39m\u001b[38;5;124mEm $\u001b[39m\u001b[38;5;130;01m\\\\\u001b[39;00m\u001b[38;5;124mbf\u001b[39m\u001b[38;5;132;01m{2019}\u001b[39;00m\u001b[38;5;124m$, as vendas\u001b[39m\u001b[38;5;130;01m\\n\u001b[39;00m\u001b[38;5;124m'\u001b[39m\n\u001b[1;32m      4\u001b[0m          \u001b[38;5;124m'\u001b[39m\u001b[38;5;124mnas lojas subiram\u001b[39m\u001b[38;5;130;01m\\n\u001b[39;00m\u001b[38;5;124m'\u001b[39m\n\u001b[1;32m      5\u001b[0m          \u001b[38;5;124m'\u001b[39m\u001b[38;5;124maproximadamente $\u001b[39m\u001b[38;5;130;01m\\\\\u001b[39;00m\u001b[38;5;124mbf\u001b[39m\u001b[38;5;124m{\u001b[39m\u001b[38;5;124m22,3}$\u001b[39m\u001b[38;5;124m%\u001b[39m\u001b[38;5;130;01m\\n\u001b[39;00m\u001b[38;5;124m'\u001b[39m\n\u001b[1;32m      6\u001b[0m          \u001b[38;5;124m'\u001b[39m\u001b[38;5;124mem relação ao ano de 2018.\u001b[39m\u001b[38;5;124m'\u001b[39m,\n\u001b[1;32m      7\u001b[0m          fontsize\u001b[38;5;241m=\u001b[39m\u001b[38;5;241m14\u001b[39m, linespacing\u001b[38;5;241m=\u001b[39m\u001b[38;5;241m1.45\u001b[39m, color\u001b[38;5;241m=\u001b[39mAZUL2)\n\u001b[1;32m      9\u001b[0m fig \u001b[38;5;241m=\u001b[39m ax\u001b[38;5;241m.\u001b[39mget_figure()\n",
      "\u001b[0;31mAttributeError\u001b[0m: 'NoneType' object has no attribute 'text'"
     ]
    }
   ],
   "source": [
    "# Anotando uma conclusão no gráfico\n",
    "ax.text(3.5, 1.5e6,\n",
    "         'Em $\\\\bf{2019}$, as vendas\\n'\n",
    "         'nas lojas subiram\\n'\n",
    "         'aproximadamente $\\\\bf{22,3}$%\\n'\n",
    "         'em relação ao ano de 2018.',\n",
    "         fontsize=14, linespacing=1.45, color=AZUL2)\n",
    "\n",
    "fig = ax.get_figure()"
   ]
  }
 ],
 "metadata": {
  "kernelspec": {
   "display_name": "PythonEnv",
   "language": "python",
   "name": "python3"
  },
  "language_info": {
   "codemirror_mode": {
    "name": "ipython",
    "version": 3
   },
   "file_extension": ".py",
   "mimetype": "text/x-python",
   "name": "python",
   "nbconvert_exporter": "python",
   "pygments_lexer": "ipython3",
   "version": "3.12.2"
  }
 },
 "nbformat": 4,
 "nbformat_minor": 2
}
