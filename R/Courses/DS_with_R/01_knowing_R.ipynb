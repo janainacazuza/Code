{
 "cells": [
  {
   "cell_type": "code",
   "execution_count": 1,
   "metadata": {
    "vscode": {
     "languageId": "r"
    }
   },
   "outputs": [
    {
     "data": {
      "text/html": [
       "<style>\n",
       ".list-inline {list-style: none; margin:0; padding: 0}\n",
       ".list-inline>li {display: inline-block}\n",
       ".list-inline>li:not(:last-child)::after {content: \"\\00b7\"; padding: 0 .5ex}\n",
       "</style>\n",
       "<ol class=list-inline><li>'Ana Silva'</li><li>'28'</li><li>'6230.5'</li><li>'Não possui'</li><li>'TRUE'</li></ol>\n"
      ],
      "text/latex": [
       "\\begin{enumerate*}\n",
       "\\item 'Ana Silva'\n",
       "\\item '28'\n",
       "\\item '6230.5'\n",
       "\\item 'Não possui'\n",
       "\\item 'TRUE'\n",
       "\\end{enumerate*}\n"
      ],
      "text/markdown": [
       "1. 'Ana Silva'\n",
       "2. '28'\n",
       "3. '6230.5'\n",
       "4. 'Não possui'\n",
       "5. 'TRUE'\n",
       "\n",
       "\n"
      ],
      "text/plain": [
       "[1] \"Ana Silva\"  \"28\"         \"6230.5\"     \"Não possui\" \"TRUE\"      "
      ]
     },
     "metadata": {},
     "output_type": "display_data"
    }
   ],
   "source": [
    "ana_silva <- c('Ana Silva', 28, 6230.50, 'Não possui', TRUE)\n",
    "ana_silva"
   ]
  },
  {
   "cell_type": "code",
   "execution_count": 2,
   "metadata": {
    "vscode": {
     "languageId": "r"
    }
   },
   "outputs": [
    {
     "data": {
      "text/html": [
       "<style>\n",
       ".dl-inline {width: auto; margin:0; padding: 0}\n",
       ".dl-inline>dt, .dl-inline>dd {float: none; width: auto; display: inline-block}\n",
       ".dl-inline>dt::after {content: \":\\0020\"; padding-right: .5ex}\n",
       ".dl-inline>dt:not(:first-of-type) {padding-left: .5ex}\n",
       "</style><dl class=dl-inline><dt>Nome</dt><dd>'Ana Silva'</dd><dt>Idade</dt><dd>'28'</dd><dt>Salário</dt><dd>'6230.5'</dd><dt>Telefone</dt><dd>'Não possui'</dd><dt>Trabalho remoto</dt><dd>'TRUE'</dd></dl>\n"
      ],
      "text/latex": [
       "\\begin{description*}\n",
       "\\item[Nome] 'Ana Silva'\n",
       "\\item[Idade] '28'\n",
       "\\item[Salário] '6230.5'\n",
       "\\item[Telefone] 'Não possui'\n",
       "\\item[Trabalho remoto] 'TRUE'\n",
       "\\end{description*}\n"
      ],
      "text/markdown": [
       "Nome\n",
       ":   'Ana Silva'Idade\n",
       ":   '28'Salário\n",
       ":   '6230.5'Telefone\n",
       ":   'Não possui'Trabalho remoto\n",
       ":   'TRUE'\n",
       "\n"
      ],
      "text/plain": [
       "           Nome           Idade         Salário        Telefone Trabalho remoto \n",
       "    \"Ana Silva\"            \"28\"        \"6230.5\"    \"Não possui\"          \"TRUE\" "
      ]
     },
     "metadata": {},
     "output_type": "display_data"
    }
   ],
   "source": [
    "names(ana_silva) <- c('Nome', 'Idade', 'Salário', 'Telefone', 'Trabalho remoto')\n",
    "ana_silva"
   ]
  },
  {
   "cell_type": "code",
   "execution_count": 3,
   "metadata": {
    "vscode": {
     "languageId": "r"
    }
   },
   "outputs": [],
   "source": [
    "carlos_oliveira <- c('Carlos Oliveira', 35, 7500.75, '(11) 1234-5678', TRUE)\n",
    "\n",
    "maria_santos <- c('Maria Santos', 40, 8000.25, '(21) 9876-5432', TRUE)\n",
    "\n",
    "joao_costa <- c('Joao Costa', '32', 2460.80, 'Não possui', FALSE)\n",
    "\n",
    "fernanda_lima <- c('Fernanda Lima', 27, 4230.35, '(31) 8765-4321', TRUE)\n"
   ]
  },
  {
   "cell_type": "code",
   "execution_count": 4,
   "metadata": {
    "vscode": {
     "languageId": "r"
    }
   },
   "outputs": [],
   "source": [
    "colab_combinado <- c(ana_silva, carlos_oliveira, maria_santos, joao_costa, fernanda_lima)"
   ]
  }
 ],
 "metadata": {
  "kernelspec": {
   "display_name": "R",
   "language": "R",
   "name": "ir"
  },
  "language_info": {
   "codemirror_mode": "r",
   "file_extension": ".r",
   "mimetype": "text/x-r-source",
   "name": "R",
   "pygments_lexer": "r",
   "version": "4.3.1"
  }
 },
 "nbformat": 4,
 "nbformat_minor": 2
}
