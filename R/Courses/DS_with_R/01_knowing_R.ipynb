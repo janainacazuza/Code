{
 "cells": [
  {
   "cell_type": "markdown",
   "metadata": {},
   "source": [
    "## Begining in R language"
   ]
  },
  {
   "cell_type": "markdown",
   "metadata": {},
   "source": [
    "## Lesson 1: knowing the data"
   ]
  },
  {
   "cell_type": "code",
   "execution_count": 1,
   "metadata": {
    "vscode": {
     "languageId": "r"
    }
   },
   "outputs": [
    {
     "data": {
      "text/html": [
       "<style>\n",
       ".list-inline {list-style: none; margin:0; padding: 0}\n",
       ".list-inline>li {display: inline-block}\n",
       ".list-inline>li:not(:last-child)::after {content: \"\\00b7\"; padding: 0 .5ex}\n",
       "</style>\n",
       "<ol class=list-inline><li>'Ana Silva'</li><li>'28'</li><li>'6230.5'</li><li>'Não possui'</li><li>'TRUE'</li></ol>\n"
      ],
      "text/latex": [
       "\\begin{enumerate*}\n",
       "\\item 'Ana Silva'\n",
       "\\item '28'\n",
       "\\item '6230.5'\n",
       "\\item 'Não possui'\n",
       "\\item 'TRUE'\n",
       "\\end{enumerate*}\n"
      ],
      "text/markdown": [
       "1. 'Ana Silva'\n",
       "2. '28'\n",
       "3. '6230.5'\n",
       "4. 'Não possui'\n",
       "5. 'TRUE'\n",
       "\n",
       "\n"
      ],
      "text/plain": [
       "[1] \"Ana Silva\"  \"28\"         \"6230.5\"     \"Não possui\" \"TRUE\"      "
      ]
     },
     "metadata": {},
     "output_type": "display_data"
    }
   ],
   "source": [
    "ana_silva <- c('Ana Silva', 28, 6230.50, 'Não possui', TRUE)\n",
    "ana_silva"
   ]
  },
  {
   "cell_type": "code",
   "execution_count": 2,
   "metadata": {
    "vscode": {
     "languageId": "r"
    }
   },
   "outputs": [
    {
     "data": {
      "text/html": [
       "<style>\n",
       ".dl-inline {width: auto; margin:0; padding: 0}\n",
       ".dl-inline>dt, .dl-inline>dd {float: none; width: auto; display: inline-block}\n",
       ".dl-inline>dt::after {content: \":\\0020\"; padding-right: .5ex}\n",
       ".dl-inline>dt:not(:first-of-type) {padding-left: .5ex}\n",
       "</style><dl class=dl-inline><dt>Nome</dt><dd>'Ana Silva'</dd><dt>Idade</dt><dd>'28'</dd><dt>Salário</dt><dd>'6230.5'</dd><dt>Telefone</dt><dd>'Não possui'</dd><dt>Trabalho remoto</dt><dd>'TRUE'</dd></dl>\n"
      ],
      "text/latex": [
       "\\begin{description*}\n",
       "\\item[Nome] 'Ana Silva'\n",
       "\\item[Idade] '28'\n",
       "\\item[Salário] '6230.5'\n",
       "\\item[Telefone] 'Não possui'\n",
       "\\item[Trabalho remoto] 'TRUE'\n",
       "\\end{description*}\n"
      ],
      "text/markdown": [
       "Nome\n",
       ":   'Ana Silva'Idade\n",
       ":   '28'Salário\n",
       ":   '6230.5'Telefone\n",
       ":   'Não possui'Trabalho remoto\n",
       ":   'TRUE'\n",
       "\n"
      ],
      "text/plain": [
       "           Nome           Idade         Salário        Telefone Trabalho remoto \n",
       "    \"Ana Silva\"            \"28\"        \"6230.5\"    \"Não possui\"          \"TRUE\" "
      ]
     },
     "metadata": {},
     "output_type": "display_data"
    }
   ],
   "source": [
    "names(ana_silva) <- c('Nome', 'Idade', 'Salário', 'Telefone', 'Trabalho remoto')\n",
    "ana_silva"
   ]
  },
  {
   "cell_type": "code",
   "execution_count": 3,
   "metadata": {
    "vscode": {
     "languageId": "r"
    }
   },
   "outputs": [],
   "source": [
    "carlos_oliveira <- c('Carlos Oliveira', 35, 7500.75, '(11) 1234-5678', TRUE)\n",
    "\n",
    "maria_santos <- c('Maria Santos', 40, 8000.25, '(21) 9876-5432', TRUE)\n",
    "\n",
    "joao_costa <- c('Joao Costa', '32', 2460.80, 'Não possui', FALSE)\n",
    "\n",
    "fernanda_lima <- c('Fernanda Lima', 27, 4230.35, '(31) 8765-4321', TRUE)\n"
   ]
  },
  {
   "cell_type": "markdown",
   "metadata": {},
   "source": [
    "### Creating a matrix\n",
    "\n",
    "To create a matrix in R, we use a function called matrix() which takes four arguments:\n",
    "\n",
    "* vector: the data we will use to create the matrix;\n",
    "* nrow: the number of rows we want in the matrix;\n",
    "* ncol: the number of columns we want in the matrix;\n",
    "* byrow (optional): specifies whether we want to create the matrix by rows or columns. If set to TRUE, it will create the matrix by rows. If set to FALSE, it will create the matrix by columns."
   ]
  },
  {
   "cell_type": "code",
   "execution_count": 4,
   "metadata": {
    "vscode": {
     "languageId": "r"
    }
   },
   "outputs": [],
   "source": [
    "colab_combinado <- c(ana_silva, carlos_oliveira, maria_santos, joao_costa, fernanda_lima)"
   ]
  },
  {
   "cell_type": "code",
   "execution_count": 5,
   "metadata": {
    "vscode": {
     "languageId": "r"
    }
   },
   "outputs": [
    {
     "data": {
      "text/html": [
       "<table class=\"dataframe\">\n",
       "<caption>A matrix: 5 × 5 of type chr</caption>\n",
       "<tbody>\n",
       "\t<tr><td>Ana Silva      </td><td>28</td><td>6230.5 </td><td>Não possui    </td><td>TRUE </td></tr>\n",
       "\t<tr><td>Carlos Oliveira</td><td>35</td><td>7500.75</td><td>(11) 1234-5678</td><td>TRUE </td></tr>\n",
       "\t<tr><td>Maria Santos   </td><td>40</td><td>8000.25</td><td>(21) 9876-5432</td><td>TRUE </td></tr>\n",
       "\t<tr><td>Joao Costa     </td><td>32</td><td>2460.8 </td><td>Não possui    </td><td>FALSE</td></tr>\n",
       "\t<tr><td>Fernanda Lima  </td><td>27</td><td>4230.35</td><td>(31) 8765-4321</td><td>TRUE </td></tr>\n",
       "</tbody>\n",
       "</table>\n"
      ],
      "text/latex": [
       "A matrix: 5 × 5 of type chr\n",
       "\\begin{tabular}{lllll}\n",
       "\t Ana Silva       & 28 & 6230.5  & Não possui     & TRUE \\\\\n",
       "\t Carlos Oliveira & 35 & 7500.75 & (11) 1234-5678 & TRUE \\\\\n",
       "\t Maria Santos    & 40 & 8000.25 & (21) 9876-5432 & TRUE \\\\\n",
       "\t Joao Costa      & 32 & 2460.8  & Não possui     & FALSE\\\\\n",
       "\t Fernanda Lima   & 27 & 4230.35 & (31) 8765-4321 & TRUE \\\\\n",
       "\\end{tabular}\n"
      ],
      "text/markdown": [
       "\n",
       "A matrix: 5 × 5 of type chr\n",
       "\n",
       "| Ana Silva       | 28 | 6230.5  | Não possui     | TRUE  |\n",
       "| Carlos Oliveira | 35 | 7500.75 | (11) 1234-5678 | TRUE  |\n",
       "| Maria Santos    | 40 | 8000.25 | (21) 9876-5432 | TRUE  |\n",
       "| Joao Costa      | 32 | 2460.8  | Não possui     | FALSE |\n",
       "| Fernanda Lima   | 27 | 4230.35 | (31) 8765-4321 | TRUE  |\n",
       "\n"
      ],
      "text/plain": [
       "     [,1]            [,2] [,3]    [,4]           [,5] \n",
       "[1,] Ana Silva       28   6230.5  Não possui     TRUE \n",
       "[2,] Carlos Oliveira 35   7500.75 (11) 1234-5678 TRUE \n",
       "[3,] Maria Santos    40   8000.25 (21) 9876-5432 TRUE \n",
       "[4,] Joao Costa      32   2460.8  Não possui     FALSE\n",
       "[5,] Fernanda Lima   27   4230.35 (31) 8765-4321 TRUE "
      ]
     },
     "metadata": {},
     "output_type": "display_data"
    }
   ],
   "source": [
    "matriz_colab <- matrix(colab_combinado, nrow = 5, byrow = TRUE)\n",
    "matriz_colab"
   ]
  },
  {
   "cell_type": "code",
   "execution_count": 6,
   "metadata": {
    "vscode": {
     "languageId": "r"
    }
   },
   "outputs": [
    {
     "data": {
      "text/html": [
       "<table class=\"dataframe\">\n",
       "<caption>A matrix: 5 × 5 of type chr</caption>\n",
       "<thead>\n",
       "\t<tr><th></th><th scope=col>Nome</th><th scope=col>Idade</th><th scope=col>Salário</th><th scope=col>Telefone</th><th scope=col>Trabalho remoto</th></tr>\n",
       "</thead>\n",
       "<tbody>\n",
       "\t<tr><th scope=row>Colaboradora Ana</th><td>Ana Silva      </td><td>28</td><td>6230.5 </td><td>Não possui    </td><td>TRUE </td></tr>\n",
       "\t<tr><th scope=row>Colaborador Carlos</th><td>Carlos Oliveira</td><td>35</td><td>7500.75</td><td>(11) 1234-5678</td><td>TRUE </td></tr>\n",
       "\t<tr><th scope=row>Colaboradora Maria</th><td>Maria Santos   </td><td>40</td><td>8000.25</td><td>(21) 9876-5432</td><td>TRUE </td></tr>\n",
       "\t<tr><th scope=row>Colaborador Joao</th><td>Joao Costa     </td><td>32</td><td>2460.8 </td><td>Não possui    </td><td>FALSE</td></tr>\n",
       "\t<tr><th scope=row>Colaboradora Fernanda</th><td>Fernanda Lima  </td><td>27</td><td>4230.35</td><td>(31) 8765-4321</td><td>TRUE </td></tr>\n",
       "</tbody>\n",
       "</table>\n"
      ],
      "text/latex": [
       "A matrix: 5 × 5 of type chr\n",
       "\\begin{tabular}{r|lllll}\n",
       "  & Nome & Idade & Salário & Telefone & Trabalho remoto\\\\\n",
       "\\hline\n",
       "\tColaboradora Ana & Ana Silva       & 28 & 6230.5  & Não possui     & TRUE \\\\\n",
       "\tColaborador Carlos & Carlos Oliveira & 35 & 7500.75 & (11) 1234-5678 & TRUE \\\\\n",
       "\tColaboradora Maria & Maria Santos    & 40 & 8000.25 & (21) 9876-5432 & TRUE \\\\\n",
       "\tColaborador Joao & Joao Costa      & 32 & 2460.8  & Não possui     & FALSE\\\\\n",
       "\tColaboradora Fernanda & Fernanda Lima   & 27 & 4230.35 & (31) 8765-4321 & TRUE \\\\\n",
       "\\end{tabular}\n"
      ],
      "text/markdown": [
       "\n",
       "A matrix: 5 × 5 of type chr\n",
       "\n",
       "| <!--/--> | Nome | Idade | Salário | Telefone | Trabalho remoto |\n",
       "|---|---|---|---|---|---|\n",
       "| Colaboradora Ana | Ana Silva       | 28 | 6230.5  | Não possui     | TRUE  |\n",
       "| Colaborador Carlos | Carlos Oliveira | 35 | 7500.75 | (11) 1234-5678 | TRUE  |\n",
       "| Colaboradora Maria | Maria Santos    | 40 | 8000.25 | (21) 9876-5432 | TRUE  |\n",
       "| Colaborador Joao | Joao Costa      | 32 | 2460.8  | Não possui     | FALSE |\n",
       "| Colaboradora Fernanda | Fernanda Lima   | 27 | 4230.35 | (31) 8765-4321 | TRUE  |\n",
       "\n"
      ],
      "text/plain": [
       "                      Nome            Idade Salário Telefone      \n",
       "Colaboradora Ana      Ana Silva       28    6230.5  Não possui    \n",
       "Colaborador Carlos    Carlos Oliveira 35    7500.75 (11) 1234-5678\n",
       "Colaboradora Maria    Maria Santos    40    8000.25 (21) 9876-5432\n",
       "Colaborador Joao      Joao Costa      32    2460.8  Não possui    \n",
       "Colaboradora Fernanda Fernanda Lima   27    4230.35 (31) 8765-4321\n",
       "                      Trabalho remoto\n",
       "Colaboradora Ana      TRUE           \n",
       "Colaborador Carlos    TRUE           \n",
       "Colaboradora Maria    TRUE           \n",
       "Colaborador Joao      FALSE          \n",
       "Colaboradora Fernanda TRUE           "
      ]
     },
     "metadata": {},
     "output_type": "display_data"
    }
   ],
   "source": [
    "rownames(matriz_colab) <- c('Colaboradora Ana', 'Colaborador Carlos', 'Colaboradora Maria', 'Colaborador Joao', 'Colaboradora Fernanda')\n",
    "colnames(matriz_colab) <- c('Nome','Idade','Salário','Telefone','Trabalho remoto')\n",
    "\n",
    "matriz_colab"
   ]
  },
  {
   "cell_type": "markdown",
   "metadata": {},
   "source": [
    "## Lesson 2: manipulating data"
   ]
  },
  {
   "cell_type": "code",
   "execution_count": 7,
   "metadata": {
    "vscode": {
     "languageId": "r"
    }
   },
   "outputs": [],
   "source": [
    "# Vector with values of sales for each month\n",
    "vendas_jan <- c(20, 18, 25, 16, 23)\n",
    "vendas_fev <- c(15, 20, 22, 18, 19)\n",
    "vendas_mar <- c(25, 23, 20, 17, 21)\n",
    "vendas_abr <- c(18, 15, 19, 20, 24)\n",
    "vendas_mai <- c(22, 25, 21, 15, 18)\n",
    "vendas_jun <- c(21, 22, 19, 17, 20)"
   ]
  },
  {
   "cell_type": "code",
   "execution_count": 8,
   "metadata": {
    "vscode": {
     "languageId": "r"
    }
   },
   "outputs": [],
   "source": [
    "# Names of the salespeople\n",
    "pessoas <- c(\"Pedro Santos\", \"Carla Nunes\", \"Maria Eduarda\", \"Luiz Felipe\", \"Julio Costa\")\n",
    "\n",
    "# Months\n",
    "meses <- c(\"Janeiro\", \"Fevereiro\", \"Marco\", \"Abril\", \"Maio\", \"Junho\")"
   ]
  },
  {
   "cell_type": "code",
   "execution_count": 9,
   "metadata": {
    "vscode": {
     "languageId": "r"
    }
   },
   "outputs": [],
   "source": [
    "# Combining the vectors\n",
    "vendas_semestre <- c(vendas_jan, vendas_fev, vendas_mar, vendas_abr, vendas_mai, vendas_jun)\n",
    "\n",
    "# Sale by month and salesperson\n",
    "matriz_vendas <- matrix(vendas_semestre, nrow = 5, byrow = FALSE)"
   ]
  },
  {
   "cell_type": "code",
   "execution_count": 10,
   "metadata": {
    "vscode": {
     "languageId": "r"
    }
   },
   "outputs": [
    {
     "data": {
      "text/html": [
       "<table class=\"dataframe\">\n",
       "<caption>A matrix: 5 × 6 of type dbl</caption>\n",
       "<thead>\n",
       "\t<tr><th></th><th scope=col>Janeiro</th><th scope=col>Fevereiro</th><th scope=col>Marco</th><th scope=col>Abril</th><th scope=col>Maio</th><th scope=col>Junho</th></tr>\n",
       "</thead>\n",
       "<tbody>\n",
       "\t<tr><th scope=row>Pedro Santos</th><td>20</td><td>15</td><td>25</td><td>18</td><td>22</td><td>21</td></tr>\n",
       "\t<tr><th scope=row>Carla Nunes</th><td>18</td><td>20</td><td>23</td><td>15</td><td>25</td><td>22</td></tr>\n",
       "\t<tr><th scope=row>Maria Eduarda</th><td>25</td><td>22</td><td>20</td><td>19</td><td>21</td><td>19</td></tr>\n",
       "\t<tr><th scope=row>Luiz Felipe</th><td>16</td><td>18</td><td>17</td><td>20</td><td>15</td><td>17</td></tr>\n",
       "\t<tr><th scope=row>Julio Costa</th><td>23</td><td>19</td><td>21</td><td>24</td><td>18</td><td>20</td></tr>\n",
       "</tbody>\n",
       "</table>\n"
      ],
      "text/latex": [
       "A matrix: 5 × 6 of type dbl\n",
       "\\begin{tabular}{r|llllll}\n",
       "  & Janeiro & Fevereiro & Marco & Abril & Maio & Junho\\\\\n",
       "\\hline\n",
       "\tPedro Santos & 20 & 15 & 25 & 18 & 22 & 21\\\\\n",
       "\tCarla Nunes & 18 & 20 & 23 & 15 & 25 & 22\\\\\n",
       "\tMaria Eduarda & 25 & 22 & 20 & 19 & 21 & 19\\\\\n",
       "\tLuiz Felipe & 16 & 18 & 17 & 20 & 15 & 17\\\\\n",
       "\tJulio Costa & 23 & 19 & 21 & 24 & 18 & 20\\\\\n",
       "\\end{tabular}\n"
      ],
      "text/markdown": [
       "\n",
       "A matrix: 5 × 6 of type dbl\n",
       "\n",
       "| <!--/--> | Janeiro | Fevereiro | Marco | Abril | Maio | Junho |\n",
       "|---|---|---|---|---|---|---|\n",
       "| Pedro Santos | 20 | 15 | 25 | 18 | 22 | 21 |\n",
       "| Carla Nunes | 18 | 20 | 23 | 15 | 25 | 22 |\n",
       "| Maria Eduarda | 25 | 22 | 20 | 19 | 21 | 19 |\n",
       "| Luiz Felipe | 16 | 18 | 17 | 20 | 15 | 17 |\n",
       "| Julio Costa | 23 | 19 | 21 | 24 | 18 | 20 |\n",
       "\n"
      ],
      "text/plain": [
       "              Janeiro Fevereiro Marco Abril Maio Junho\n",
       "Pedro Santos  20      15        25    18    22   21   \n",
       "Carla Nunes   18      20        23    15    25   22   \n",
       "Maria Eduarda 25      22        20    19    21   19   \n",
       "Luiz Felipe   16      18        17    20    15   17   \n",
       "Julio Costa   23      19        21    24    18   20   "
      ]
     },
     "metadata": {},
     "output_type": "display_data"
    }
   ],
   "source": [
    "# Set the row and column names\n",
    "rownames(matriz_vendas) <- pessoas\n",
    "colnames(matriz_vendas) <- meses\n",
    "# Show the matrix\n",
    "matriz_vendas"
   ]
  },
  {
   "cell_type": "markdown",
   "metadata": {},
   "source": [
    "##### Questions to answer:\n",
    "* Which collaborator had the highest sales revenue?\n",
    "* Which month had the highest revenue?"
   ]
  },
  {
   "cell_type": "code",
   "execution_count": 11,
   "metadata": {
    "vscode": {
     "languageId": "r"
    }
   },
   "outputs": [
    {
     "data": {
      "text/html": [
       "<style>\n",
       ".dl-inline {width: auto; margin:0; padding: 0}\n",
       ".dl-inline>dt, .dl-inline>dd {float: none; width: auto; display: inline-block}\n",
       ".dl-inline>dt::after {content: \":\\0020\"; padding-right: .5ex}\n",
       ".dl-inline>dt:not(:first-of-type) {padding-left: .5ex}\n",
       "</style><dl class=dl-inline><dt>Pedro Santos</dt><dd>121</dd><dt>Carla Nunes</dt><dd>123</dd><dt>Maria Eduarda</dt><dd>126</dd><dt>Luiz Felipe</dt><dd>103</dd><dt>Julio Costa</dt><dd>125</dd></dl>\n"
      ],
      "text/latex": [
       "\\begin{description*}\n",
       "\\item[Pedro Santos] 121\n",
       "\\item[Carla Nunes] 123\n",
       "\\item[Maria Eduarda] 126\n",
       "\\item[Luiz Felipe] 103\n",
       "\\item[Julio Costa] 125\n",
       "\\end{description*}\n"
      ],
      "text/markdown": [
       "Pedro Santos\n",
       ":   121Carla Nunes\n",
       ":   123Maria Eduarda\n",
       ":   126Luiz Felipe\n",
       ":   103Julio Costa\n",
       ":   125\n",
       "\n"
      ],
      "text/plain": [
       " Pedro Santos   Carla Nunes Maria Eduarda   Luiz Felipe   Julio Costa \n",
       "          121           123           126           103           125 "
      ]
     },
     "metadata": {},
     "output_type": "display_data"
    }
   ],
   "source": [
    "rowSums(matriz_vendas)"
   ]
  },
  {
   "cell_type": "code",
   "execution_count": 12,
   "metadata": {
    "vscode": {
     "languageId": "r"
    }
   },
   "outputs": [
    {
     "data": {
      "text/html": [
       "<style>\n",
       ".dl-inline {width: auto; margin:0; padding: 0}\n",
       ".dl-inline>dt, .dl-inline>dd {float: none; width: auto; display: inline-block}\n",
       ".dl-inline>dt::after {content: \":\\0020\"; padding-right: .5ex}\n",
       ".dl-inline>dt:not(:first-of-type) {padding-left: .5ex}\n",
       "</style><dl class=dl-inline><dt>Janeiro</dt><dd>102</dd><dt>Fevereiro</dt><dd>94</dd><dt>Marco</dt><dd>106</dd><dt>Abril</dt><dd>96</dd><dt>Maio</dt><dd>101</dd><dt>Junho</dt><dd>99</dd></dl>\n"
      ],
      "text/latex": [
       "\\begin{description*}\n",
       "\\item[Janeiro] 102\n",
       "\\item[Fevereiro] 94\n",
       "\\item[Marco] 106\n",
       "\\item[Abril] 96\n",
       "\\item[Maio] 101\n",
       "\\item[Junho] 99\n",
       "\\end{description*}\n"
      ],
      "text/markdown": [
       "Janeiro\n",
       ":   102Fevereiro\n",
       ":   94Marco\n",
       ":   106Abril\n",
       ":   96Maio\n",
       ":   101Junho\n",
       ":   99\n",
       "\n"
      ],
      "text/plain": [
       "  Janeiro Fevereiro     Marco     Abril      Maio     Junho \n",
       "      102        94       106        96       101        99 "
      ]
     },
     "metadata": {},
     "output_type": "display_data"
    }
   ],
   "source": [
    "colSums(matriz_vendas)"
   ]
  },
  {
   "cell_type": "markdown",
   "metadata": {},
   "source": [
    "##### Questions to answer:\n",
    "* Which collaborator had the highest sales revenue? Maria Eduarda\n",
    "* Which month had the highest revenue? Março"
   ]
  },
  {
   "cell_type": "markdown",
   "metadata": {},
   "source": []
  },
  {
   "cell_type": "code",
   "execution_count": 13,
   "metadata": {
    "vscode": {
     "languageId": "r"
    }
   },
   "outputs": [
    {
     "data": {
      "text/html": [
       "<table class=\"dataframe\">\n",
       "<caption>A matrix: 5 × 7 of type dbl</caption>\n",
       "<thead>\n",
       "\t<tr><th></th><th scope=col>Janeiro</th><th scope=col>Fevereiro</th><th scope=col>Marco</th><th scope=col>Abril</th><th scope=col>Maio</th><th scope=col>Junho</th><th scope=col>total_colab</th></tr>\n",
       "</thead>\n",
       "<tbody>\n",
       "\t<tr><th scope=row>Pedro Santos</th><td>20</td><td>15</td><td>25</td><td>18</td><td>22</td><td>21</td><td>121</td></tr>\n",
       "\t<tr><th scope=row>Carla Nunes</th><td>18</td><td>20</td><td>23</td><td>15</td><td>25</td><td>22</td><td>123</td></tr>\n",
       "\t<tr><th scope=row>Maria Eduarda</th><td>25</td><td>22</td><td>20</td><td>19</td><td>21</td><td>19</td><td>126</td></tr>\n",
       "\t<tr><th scope=row>Luiz Felipe</th><td>16</td><td>18</td><td>17</td><td>20</td><td>15</td><td>17</td><td>103</td></tr>\n",
       "\t<tr><th scope=row>Julio Costa</th><td>23</td><td>19</td><td>21</td><td>24</td><td>18</td><td>20</td><td>125</td></tr>\n",
       "</tbody>\n",
       "</table>\n"
      ],
      "text/latex": [
       "A matrix: 5 × 7 of type dbl\n",
       "\\begin{tabular}{r|lllllll}\n",
       "  & Janeiro & Fevereiro & Marco & Abril & Maio & Junho & total\\_colab\\\\\n",
       "\\hline\n",
       "\tPedro Santos & 20 & 15 & 25 & 18 & 22 & 21 & 121\\\\\n",
       "\tCarla Nunes & 18 & 20 & 23 & 15 & 25 & 22 & 123\\\\\n",
       "\tMaria Eduarda & 25 & 22 & 20 & 19 & 21 & 19 & 126\\\\\n",
       "\tLuiz Felipe & 16 & 18 & 17 & 20 & 15 & 17 & 103\\\\\n",
       "\tJulio Costa & 23 & 19 & 21 & 24 & 18 & 20 & 125\\\\\n",
       "\\end{tabular}\n"
      ],
      "text/markdown": [
       "\n",
       "A matrix: 5 × 7 of type dbl\n",
       "\n",
       "| <!--/--> | Janeiro | Fevereiro | Marco | Abril | Maio | Junho | total_colab |\n",
       "|---|---|---|---|---|---|---|---|\n",
       "| Pedro Santos | 20 | 15 | 25 | 18 | 22 | 21 | 121 |\n",
       "| Carla Nunes | 18 | 20 | 23 | 15 | 25 | 22 | 123 |\n",
       "| Maria Eduarda | 25 | 22 | 20 | 19 | 21 | 19 | 126 |\n",
       "| Luiz Felipe | 16 | 18 | 17 | 20 | 15 | 17 | 103 |\n",
       "| Julio Costa | 23 | 19 | 21 | 24 | 18 | 20 | 125 |\n",
       "\n"
      ],
      "text/plain": [
       "              Janeiro Fevereiro Marco Abril Maio Junho total_colab\n",
       "Pedro Santos  20      15        25    18    22   21    121        \n",
       "Carla Nunes   18      20        23    15    25   22    123        \n",
       "Maria Eduarda 25      22        20    19    21   19    126        \n",
       "Luiz Felipe   16      18        17    20    15   17    103        \n",
       "Julio Costa   23      19        21    24    18   20    125        "
      ]
     },
     "metadata": {},
     "output_type": "display_data"
    }
   ],
   "source": [
    "total_colab <- rowSums(matriz_vendas)\n",
    "\n",
    "matriz_total_colab <- cbind(matriz_vendas, total_colab)\n",
    "matriz_total_colab"
   ]
  },
  {
   "cell_type": "code",
   "execution_count": 14,
   "metadata": {
    "vscode": {
     "languageId": "r"
    }
   },
   "outputs": [
    {
     "data": {
      "text/html": [
       "<table class=\"dataframe\">\n",
       "<caption>A matrix: 6 × 6 of type dbl</caption>\n",
       "<thead>\n",
       "\t<tr><th></th><th scope=col>Janeiro</th><th scope=col>Fevereiro</th><th scope=col>Marco</th><th scope=col>Abril</th><th scope=col>Maio</th><th scope=col>Junho</th></tr>\n",
       "</thead>\n",
       "<tbody>\n",
       "\t<tr><th scope=row>Pedro Santos</th><td> 20</td><td>15</td><td> 25</td><td>18</td><td> 22</td><td>21</td></tr>\n",
       "\t<tr><th scope=row>Carla Nunes</th><td> 18</td><td>20</td><td> 23</td><td>15</td><td> 25</td><td>22</td></tr>\n",
       "\t<tr><th scope=row>Maria Eduarda</th><td> 25</td><td>22</td><td> 20</td><td>19</td><td> 21</td><td>19</td></tr>\n",
       "\t<tr><th scope=row>Luiz Felipe</th><td> 16</td><td>18</td><td> 17</td><td>20</td><td> 15</td><td>17</td></tr>\n",
       "\t<tr><th scope=row>Julio Costa</th><td> 23</td><td>19</td><td> 21</td><td>24</td><td> 18</td><td>20</td></tr>\n",
       "\t<tr><th scope=row>total_meses</th><td>102</td><td>94</td><td>106</td><td>96</td><td>101</td><td>99</td></tr>\n",
       "</tbody>\n",
       "</table>\n"
      ],
      "text/latex": [
       "A matrix: 6 × 6 of type dbl\n",
       "\\begin{tabular}{r|llllll}\n",
       "  & Janeiro & Fevereiro & Marco & Abril & Maio & Junho\\\\\n",
       "\\hline\n",
       "\tPedro Santos &  20 & 15 &  25 & 18 &  22 & 21\\\\\n",
       "\tCarla Nunes &  18 & 20 &  23 & 15 &  25 & 22\\\\\n",
       "\tMaria Eduarda &  25 & 22 &  20 & 19 &  21 & 19\\\\\n",
       "\tLuiz Felipe &  16 & 18 &  17 & 20 &  15 & 17\\\\\n",
       "\tJulio Costa &  23 & 19 &  21 & 24 &  18 & 20\\\\\n",
       "\ttotal\\_meses & 102 & 94 & 106 & 96 & 101 & 99\\\\\n",
       "\\end{tabular}\n"
      ],
      "text/markdown": [
       "\n",
       "A matrix: 6 × 6 of type dbl\n",
       "\n",
       "| <!--/--> | Janeiro | Fevereiro | Marco | Abril | Maio | Junho |\n",
       "|---|---|---|---|---|---|---|\n",
       "| Pedro Santos |  20 | 15 |  25 | 18 |  22 | 21 |\n",
       "| Carla Nunes |  18 | 20 |  23 | 15 |  25 | 22 |\n",
       "| Maria Eduarda |  25 | 22 |  20 | 19 |  21 | 19 |\n",
       "| Luiz Felipe |  16 | 18 |  17 | 20 |  15 | 17 |\n",
       "| Julio Costa |  23 | 19 |  21 | 24 |  18 | 20 |\n",
       "| total_meses | 102 | 94 | 106 | 96 | 101 | 99 |\n",
       "\n"
      ],
      "text/plain": [
       "              Janeiro Fevereiro Marco Abril Maio Junho\n",
       "Pedro Santos   20     15         25   18     22  21   \n",
       "Carla Nunes    18     20         23   15     25  22   \n",
       "Maria Eduarda  25     22         20   19     21  19   \n",
       "Luiz Felipe    16     18         17   20     15  17   \n",
       "Julio Costa    23     19         21   24     18  20   \n",
       "total_meses   102     94        106   96    101  99   "
      ]
     },
     "metadata": {},
     "output_type": "display_data"
    }
   ],
   "source": [
    "total_meses <- colSums(matriz_vendas)\n",
    "\n",
    "matriz_total_meses <- rbind(matriz_vendas, total_meses)\n",
    "matriz_total_meses"
   ]
  },
  {
   "cell_type": "markdown",
   "metadata": {},
   "source": [
    "## Lesson 3:Conditional and Loop Structures"
   ]
  },
  {
   "cell_type": "code",
   "execution_count": null,
   "metadata": {
    "vscode": {
     "languageId": "r"
    }
   },
   "outputs": [
    {
     "data": {
      "text/html": [
       "<table class=\"dataframe\">\n",
       "<caption>A matrix: 5 × 2 of type dbl</caption>\n",
       "<thead>\n",
       "\t<tr><th></th><th scope=col>Produto</th><th scope=col>Estoque</th></tr>\n",
       "</thead>\n",
       "<tbody>\n",
       "\t<tr><th scope=row>Notebook</th><td> 50</td><td>10</td></tr>\n",
       "\t<tr><th scope=row>Tablet</th><td>100</td><td> 5</td></tr>\n",
       "\t<tr><th scope=row>Monitor</th><td>150</td><td>20</td></tr>\n",
       "\t<tr><th scope=row>Smartphone</th><td> 25</td><td>30</td></tr>\n",
       "\t<tr><th scope=row>Headset</th><td> 75</td><td> 7</td></tr>\n",
       "</tbody>\n",
       "</table>\n"
      ],
      "text/latex": [
       "A matrix: 5 × 2 of type dbl\n",
       "\\begin{tabular}{r|ll}\n",
       "  & Produto & Estoque\\\\\n",
       "\\hline\n",
       "\tNotebook &  50 & 10\\\\\n",
       "\tTablet & 100 &  5\\\\\n",
       "\tMonitor & 150 & 20\\\\\n",
       "\tSmartphone &  25 & 30\\\\\n",
       "\tHeadset &  75 &  7\\\\\n",
       "\\end{tabular}\n"
      ],
      "text/markdown": [
       "\n",
       "A matrix: 5 × 2 of type dbl\n",
       "\n",
       "| <!--/--> | Produto | Estoque |\n",
       "|---|---|---|\n",
       "| Notebook |  50 | 10 |\n",
       "| Tablet | 100 |  5 |\n",
       "| Monitor | 150 | 20 |\n",
       "| Smartphone |  25 | 30 |\n",
       "| Headset |  75 |  7 |\n",
       "\n"
      ],
      "text/plain": [
       "           Produto Estoque\n",
       "Notebook    50     10     \n",
       "Tablet     100      5     \n",
       "Monitor    150     20     \n",
       "Smartphone  25     30     \n",
       "Headset     75      7     "
      ]
     },
     "metadata": {},
     "output_type": "display_data"
    }
   ],
   "source": [
    "preco <- c(50, 100, 150, 25, 75)\n",
    "\n",
    "qtd_estoque <- c(10, 5, 20, 30, 7)\n",
    "\n",
    "preco_estoque <- c(preco, qtd_estoque)\n",
    "\n",
    "matriz_estoque <- matrix(preco_estoque, ncol = 2)\n",
    "\n",
    "rownames(matriz_estoque) <- c('Notebook', 'Tablet', 'Monitor', 'Smartphone', 'Headset') # nolint: line_length_linter.\n",
    "colnames(matriz_estoque) <- c('Produto', 'Estoque')\n",
    "\n",
    "matriz_estoque"
   ]
  },
  {
   "cell_type": "markdown",
   "metadata": {},
   "source": [
    "\n",
    "##### Based on this matrix, we will address the predefined questions in this project. Let's explore the following:\n",
    "\n",
    "* Calculate the total value in stock.\n",
    "* Identify products with low stock (less than 15 units).\n",
    "* Classify the total stock value as high or low.\n",
    "* Apply a 10% discount to all products in stock.\n",
    "* Determine the best-selling product.\n",
    "\n"
   ]
  },
  {
   "cell_type": "code",
   "execution_count": null,
   "metadata": {
    "vscode": {
     "languageId": "r"
    }
   },
   "outputs": [
    {
     "data": {
      "text/html": [
       "<style>\n",
       ".dl-inline {width: auto; margin:0; padding: 0}\n",
       ".dl-inline>dt, .dl-inline>dd {float: none; width: auto; display: inline-block}\n",
       ".dl-inline>dt::after {content: \":\\0020\"; padding-right: .5ex}\n",
       ".dl-inline>dt:not(:first-of-type) {padding-left: .5ex}\n",
       "</style><dl class=dl-inline><dt>Notebook</dt><dd>500</dd><dt>Tablet</dt><dd>500</dd><dt>Monitor</dt><dd>3000</dd><dt>Smartphone</dt><dd>750</dd><dt>Headset</dt><dd>525</dd></dl>\n"
      ],
      "text/latex": [
       "\\begin{description*}\n",
       "\\item[Notebook] 500\n",
       "\\item[Tablet] 500\n",
       "\\item[Monitor] 3000\n",
       "\\item[Smartphone] 750\n",
       "\\item[Headset] 525\n",
       "\\end{description*}\n"
      ],
      "text/markdown": [
       "Notebook\n",
       ":   500Tablet\n",
       ":   500Monitor\n",
       ":   3000Smartphone\n",
       ":   750Headset\n",
       ":   525\n",
       "\n"
      ],
      "text/plain": [
       "  Notebook     Tablet    Monitor Smartphone    Headset \n",
       "       500        500       3000        750        525 "
      ]
     },
     "metadata": {},
     "output_type": "display_data"
    }
   ],
   "source": [
    "total_estoque <- matriz_estoque[, 1] * matriz_estoque[, 2]\n",
    "total_estoque"
   ]
  },
  {
   "cell_type": "code",
   "execution_count": 19,
   "metadata": {
    "vscode": {
     "languageId": "r"
    }
   },
   "outputs": [
    {
     "data": {
      "text/html": [
       "<table class=\"dataframe\">\n",
       "<caption>A matrix: 5 × 3 of type dbl</caption>\n",
       "<thead>\n",
       "\t<tr><th></th><th scope=col>Produto</th><th scope=col>Estoque</th><th scope=col>total_estoque</th></tr>\n",
       "</thead>\n",
       "<tbody>\n",
       "\t<tr><th scope=row>Notebook</th><td> 50</td><td>10</td><td> 500</td></tr>\n",
       "\t<tr><th scope=row>Tablet</th><td>100</td><td> 5</td><td> 500</td></tr>\n",
       "\t<tr><th scope=row>Monitor</th><td>150</td><td>20</td><td>3000</td></tr>\n",
       "\t<tr><th scope=row>Smartphone</th><td> 25</td><td>30</td><td> 750</td></tr>\n",
       "\t<tr><th scope=row>Headset</th><td> 75</td><td> 7</td><td> 525</td></tr>\n",
       "</tbody>\n",
       "</table>\n"
      ],
      "text/latex": [
       "A matrix: 5 × 3 of type dbl\n",
       "\\begin{tabular}{r|lll}\n",
       "  & Produto & Estoque & total\\_estoque\\\\\n",
       "\\hline\n",
       "\tNotebook &  50 & 10 &  500\\\\\n",
       "\tTablet & 100 &  5 &  500\\\\\n",
       "\tMonitor & 150 & 20 & 3000\\\\\n",
       "\tSmartphone &  25 & 30 &  750\\\\\n",
       "\tHeadset &  75 &  7 &  525\\\\\n",
       "\\end{tabular}\n"
      ],
      "text/markdown": [
       "\n",
       "A matrix: 5 × 3 of type dbl\n",
       "\n",
       "| <!--/--> | Produto | Estoque | total_estoque |\n",
       "|---|---|---|---|\n",
       "| Notebook |  50 | 10 |  500 |\n",
       "| Tablet | 100 |  5 |  500 |\n",
       "| Monitor | 150 | 20 | 3000 |\n",
       "| Smartphone |  25 | 30 |  750 |\n",
       "| Headset |  75 |  7 |  525 |\n",
       "\n"
      ],
      "text/plain": [
       "           Produto Estoque total_estoque\n",
       "Notebook    50     10       500         \n",
       "Tablet     100      5       500         \n",
       "Monitor    150     20      3000         \n",
       "Smartphone  25     30       750         \n",
       "Headset     75      7       525         "
      ]
     },
     "metadata": {},
     "output_type": "display_data"
    }
   ],
   "source": [
    "matriz_estoque <- cbind(matriz_estoque, total_estoque)\n",
    "\n",
    "matriz_estoque"
   ]
  },
  {
   "cell_type": "code",
   "execution_count": null,
   "metadata": {
    "vscode": {
     "languageId": "r"
    }
   },
   "outputs": [
    {
     "data": {
      "text/html": [
       "<table class=\"dataframe\">\n",
       "<caption>A matrix: 3 × 3 of type dbl</caption>\n",
       "<thead>\n",
       "\t<tr><th></th><th scope=col>Produto</th><th scope=col>Estoque</th><th scope=col>total_estoque</th></tr>\n",
       "</thead>\n",
       "<tbody>\n",
       "\t<tr><th scope=row>Notebook</th><td> 50</td><td>10</td><td>500</td></tr>\n",
       "\t<tr><th scope=row>Tablet</th><td>100</td><td> 5</td><td>500</td></tr>\n",
       "\t<tr><th scope=row>Headset</th><td> 75</td><td> 7</td><td>525</td></tr>\n",
       "</tbody>\n",
       "</table>\n"
      ],
      "text/latex": [
       "A matrix: 3 × 3 of type dbl\n",
       "\\begin{tabular}{r|lll}\n",
       "  & Produto & Estoque & total\\_estoque\\\\\n",
       "\\hline\n",
       "\tNotebook &  50 & 10 & 500\\\\\n",
       "\tTablet & 100 &  5 & 500\\\\\n",
       "\tHeadset &  75 &  7 & 525\\\\\n",
       "\\end{tabular}\n"
      ],
      "text/markdown": [
       "\n",
       "A matrix: 3 × 3 of type dbl\n",
       "\n",
       "| <!--/--> | Produto | Estoque | total_estoque |\n",
       "|---|---|---|---|\n",
       "| Notebook |  50 | 10 | 500 |\n",
       "| Tablet | 100 |  5 | 500 |\n",
       "| Headset |  75 |  7 | 525 |\n",
       "\n"
      ],
      "text/plain": [
       "         Produto Estoque total_estoque\n",
       "Notebook  50     10      500          \n",
       "Tablet   100      5      500          \n",
       "Headset   75      7      525          "
      ]
     },
     "metadata": {},
     "output_type": "display_data"
    }
   ],
   "source": [
    "estoque_baixo <- matriz_estoque[, 2] < 15\n",
    "matriz_estoque[estoque_baixo, ]"
   ]
  },
  {
   "cell_type": "code",
   "execution_count": 23,
   "metadata": {
    "vscode": {
     "languageId": "r"
    }
   },
   "outputs": [
    {
     "data": {
      "text/html": [
       "<strong>total_estoque:</strong> 5275"
      ],
      "text/latex": [
       "\\textbf{total\\textbackslash{}\\_estoque:} 5275"
      ],
      "text/markdown": [
       "**total_estoque:** 5275"
      ],
      "text/plain": [
       "total_estoque \n",
       "         5275 "
      ]
     },
     "metadata": {},
     "output_type": "display_data"
    }
   ],
   "source": [
    "total_somado <- colSums(matriz_estoque)\n",
    "total_somado[3]"
   ]
  },
  {
   "cell_type": "code",
   "execution_count": 24,
   "metadata": {
    "vscode": {
     "languageId": "r"
    }
   },
   "outputs": [
    {
     "data": {
      "text/html": [
       "<span style=white-space:pre-wrap>'Total em estoque é alto. Valor total:  5275'</span>"
      ],
      "text/latex": [
       "'Total em estoque é alto. Valor total:  5275'"
      ],
      "text/markdown": [
       "<span style=white-space:pre-wrap>'Total em estoque é alto. Valor total:  5275'</span>"
      ],
      "text/plain": [
       "[1] \"Total em estoque é alto. Valor total:  5275\""
      ]
     },
     "metadata": {},
     "output_type": "display_data"
    }
   ],
   "source": [
    "if (total_somado[3] > 3000){\n",
    "  paste('Total em estoque é alto. Valor total: ', total_somado[3])\n",
    "} else {\n",
    "  paste('Total em estoque é baixo. Valor total: ', total_somado[3])\n",
    "}"
   ]
  },
  {
   "cell_type": "code",
   "execution_count": 27,
   "metadata": {
    "vscode": {
     "languageId": "r"
    }
   },
   "outputs": [
    {
     "data": {
      "text/html": [
       "<table class=\"dataframe\">\n",
       "<caption>A matrix: 5 × 3 of type dbl</caption>\n",
       "<thead>\n",
       "\t<tr><th></th><th scope=col>Produto</th><th scope=col>Estoque</th><th scope=col>total_estoque</th></tr>\n",
       "</thead>\n",
       "<tbody>\n",
       "\t<tr><th scope=row>Notebook</th><td> 45.0</td><td>10</td><td> 500</td></tr>\n",
       "\t<tr><th scope=row>Tablet</th><td> 90.0</td><td> 5</td><td> 500</td></tr>\n",
       "\t<tr><th scope=row>Monitor</th><td>135.0</td><td>20</td><td>3000</td></tr>\n",
       "\t<tr><th scope=row>Smartphone</th><td> 22.5</td><td>30</td><td> 750</td></tr>\n",
       "\t<tr><th scope=row>Headset</th><td> 67.5</td><td> 7</td><td> 525</td></tr>\n",
       "</tbody>\n",
       "</table>\n"
      ],
      "text/latex": [
       "A matrix: 5 × 3 of type dbl\n",
       "\\begin{tabular}{r|lll}\n",
       "  & Produto & Estoque & total\\_estoque\\\\\n",
       "\\hline\n",
       "\tNotebook &  45.0 & 10 &  500\\\\\n",
       "\tTablet &  90.0 &  5 &  500\\\\\n",
       "\tMonitor & 135.0 & 20 & 3000\\\\\n",
       "\tSmartphone &  22.5 & 30 &  750\\\\\n",
       "\tHeadset &  67.5 &  7 &  525\\\\\n",
       "\\end{tabular}\n"
      ],
      "text/markdown": [
       "\n",
       "A matrix: 5 × 3 of type dbl\n",
       "\n",
       "| <!--/--> | Produto | Estoque | total_estoque |\n",
       "|---|---|---|---|\n",
       "| Notebook |  45.0 | 10 |  500 |\n",
       "| Tablet |  90.0 |  5 |  500 |\n",
       "| Monitor | 135.0 | 20 | 3000 |\n",
       "| Smartphone |  22.5 | 30 |  750 |\n",
       "| Headset |  67.5 |  7 |  525 |\n",
       "\n"
      ],
      "text/plain": [
       "           Produto Estoque total_estoque\n",
       "Notebook    45.0   10       500         \n",
       "Tablet      90.0    5       500         \n",
       "Monitor    135.0   20      3000         \n",
       "Smartphone  22.5   30       750         \n",
       "Headset     67.5    7       525         "
      ]
     },
     "metadata": {},
     "output_type": "display_data"
    }
   ],
   "source": [
    "for (i in 1:nrow(matriz_estoque)) {\n",
    "    matriz_estoque[i, 1] <- matriz_estoque[i, 1] * 0.9\n",
    "}\n",
    "\n",
    "matriz_estoque"
   ]
  },
  {
   "cell_type": "code",
   "execution_count": 28,
   "metadata": {
    "vscode": {
     "languageId": "r"
    }
   },
   "outputs": [],
   "source": [
    "indice_mais_vendido <- 0\n",
    "quantidade_mais_vendida <- 0\n",
    "i <- 1"
   ]
  },
  {
   "cell_type": "code",
   "execution_count": 29,
   "metadata": {
    "vscode": {
     "languageId": "r"
    }
   },
   "outputs": [
    {
     "name": "stdout",
     "output_type": "stream",
     "text": [
      "Produto mais vendido:  4\n",
      "Total em estoque:  30"
     ]
    }
   ],
   "source": [
    "while (i <= nrow(matriz_estoque) & quantidade_mais_vendida < 30) {\n",
    "    if (matriz_estoque[i, 2] > quantidade_mais_vendida) {\n",
    "        quantidade_mais_vendida <- matriz_estoque[i, 2]\n",
    "        indice_mais_vendido <- i\n",
    "    }\n",
    "    i <- i + 1\n",
    "}\n",
    "\n",
    "cat('Produto mais vendido: ', indice_mais_vendido)\n",
    "cat('\\nTotal em estoque: ', matriz_estoque[indice_mais_vendido, 2])"
   ]
  },
  {
   "cell_type": "markdown",
   "metadata": {},
   "source": [
    "##### The ifelse() function allows you to apply conditions to each element of a vector or matrix efficiently. It follows the syntax:"
   ]
  },
  {
   "cell_type": "code",
   "execution_count": 25,
   "metadata": {
    "vscode": {
     "languageId": "r"
    }
   },
   "outputs": [
    {
     "name": "stdout",
     "output_type": "stream",
     "text": [
      "[1] \"Adulto\" \"Jovem\"  \"Adulto\" \"Adulto\" \"Jovem\" \n"
     ]
    }
   ],
   "source": [
    "idades <- c(25, 16, 22, 30, 14)\n",
    "categorias <- ifelse(idades >= 18, \"Adulto\", \"Jovem\")\n",
    "print(categorias)"
   ]
  },
  {
   "cell_type": "code",
   "execution_count": 26,
   "metadata": {
    "vscode": {
     "languageId": "r"
    }
   },
   "outputs": [
    {
     "name": "stdout",
     "output_type": "stream",
     "text": [
      "     [,1]        [,2]       \n",
      "[1,] \"Aprovado\"  \"Reprovado\"\n",
      "[2,] \"Reprovado\" \"Aprovado\" \n",
      "[3,] \"Aprovado\"  \"Aprovado\" \n"
     ]
    }
   ],
   "source": [
    "notas <- matrix(c(75, 45, 80, 55, 90, 65), ncol = 2)\n",
    "resultados <- ifelse(notas >= 60, \"Aprovado\", \"Reprovado\")\n",
    "print(resultados)"
   ]
  },
  {
   "cell_type": "markdown",
   "metadata": {},
   "source": [
    "## Lesson 4: Mathematical and Statistical Functions"
   ]
  },
  {
   "cell_type": "code",
   "execution_count": 32,
   "metadata": {
    "vscode": {
     "languageId": "r"
    }
   },
   "outputs": [
    {
     "data": {
      "text/html": [
       "<table class=\"dataframe\">\n",
       "<caption>A matrix: 5 × 3 of type dbl</caption>\n",
       "<thead>\n",
       "\t<tr><th></th><th scope=col>Preco</th><th scope=col>Quantidade</th><th scope=col>Valor Total</th></tr>\n",
       "</thead>\n",
       "<tbody>\n",
       "\t<tr><th scope=row>Laptop</th><td>1230.75</td><td>20</td><td>24615.0</td></tr>\n",
       "\t<tr><th scope=row>Smart TV</th><td> 840.46</td><td>35</td><td>29416.1</td></tr>\n",
       "\t<tr><th scope=row>Webcam</th><td> 110.20</td><td>15</td><td> 1653.0</td></tr>\n",
       "\t<tr><th scope=row>Microfone</th><td> 519.67</td><td>10</td><td> 5196.7</td></tr>\n",
       "\t<tr><th scope=row>Smartwatch</th><td> 650.90</td><td>25</td><td>16272.5</td></tr>\n",
       "</tbody>\n",
       "</table>\n"
      ],
      "text/latex": [
       "A matrix: 5 × 3 of type dbl\n",
       "\\begin{tabular}{r|lll}\n",
       "  & Preco & Quantidade & Valor Total\\\\\n",
       "\\hline\n",
       "\tLaptop & 1230.75 & 20 & 24615.0\\\\\n",
       "\tSmart TV &  840.46 & 35 & 29416.1\\\\\n",
       "\tWebcam &  110.20 & 15 &  1653.0\\\\\n",
       "\tMicrofone &  519.67 & 10 &  5196.7\\\\\n",
       "\tSmartwatch &  650.90 & 25 & 16272.5\\\\\n",
       "\\end{tabular}\n"
      ],
      "text/markdown": [
       "\n",
       "A matrix: 5 × 3 of type dbl\n",
       "\n",
       "| <!--/--> | Preco | Quantidade | Valor Total |\n",
       "|---|---|---|---|\n",
       "| Laptop | 1230.75 | 20 | 24615.0 |\n",
       "| Smart TV |  840.46 | 35 | 29416.1 |\n",
       "| Webcam |  110.20 | 15 |  1653.0 |\n",
       "| Microfone |  519.67 | 10 |  5196.7 |\n",
       "| Smartwatch |  650.90 | 25 | 16272.5 |\n",
       "\n"
      ],
      "text/plain": [
       "           Preco   Quantidade Valor Total\n",
       "Laptop     1230.75 20         24615.0    \n",
       "Smart TV    840.46 35         29416.1    \n",
       "Webcam      110.20 15          1653.0    \n",
       "Microfone   519.67 10          5196.7    \n",
       "Smartwatch  650.90 25         16272.5    "
      ]
     },
     "metadata": {},
     "output_type": "display_data"
    }
   ],
   "source": [
    "dados_vendas <- matrix(c(\n",
    "  1230.75, 20, 24615,\n",
    "  840.46, 35, 29416.10,\n",
    "  110.20, 15, 1653,\n",
    "  519.67, 10, 5196.70,\n",
    "  650.90, 25, 16272.50\n",
    "\n",
    "), ncol = 3, byrow = TRUE)\n",
    "\n",
    "colnames(dados_vendas) <- c(\"Preco\", \"Quantidade\", \"Valor Total\")\n",
    "rownames (dados_vendas) <- c(\"Laptop\", \"Smart TV\", \"Webcam\", \"Microfone\", \"Smartwatch\")\n",
    "\n",
    "dados_vendas"
   ]
  },
  {
   "cell_type": "code",
   "execution_count": 35,
   "metadata": {
    "vscode": {
     "languageId": "r"
    }
   },
   "outputs": [
    {
     "data": {
      "text/html": [
       "80"
      ],
      "text/latex": [
       "80"
      ],
      "text/markdown": [
       "80"
      ],
      "text/plain": [
       "[1] 80"
      ]
     },
     "metadata": {},
     "output_type": "display_data"
    }
   ],
   "source": [
    "dados_filtados <- dados_vendas [dados_vendas[, 1]> 600,]\n",
    "\n",
    "qtd_filtrado <- sum(dados_filtados[, 2])\n",
    "\n",
    "qtd_filtrado"
   ]
  },
  {
   "cell_type": "code",
   "execution_count": 38,
   "metadata": {
    "vscode": {
     "languageId": "r"
    }
   },
   "outputs": [
    {
     "data": {
      "text/html": [
       "76"
      ],
      "text/latex": [
       "76"
      ],
      "text/markdown": [
       "76"
      ],
      "text/plain": [
       "[1] 76"
      ]
     },
     "metadata": {},
     "output_type": "display_data"
    }
   ],
   "source": [
    "qtd_total <- sum(dados_vendas[, 2])\n",
    "\n",
    "resultado_porcentagem <- (qtd_filtrado / qtd_total) * 100\n",
    "\n",
    "round(resultado_porcentagem)"
   ]
  },
  {
   "cell_type": "markdown",
   "metadata": {},
   "source": [
    "* What is the average sales revenue?\n",
    "* Is there a significant difference between the mean and median of the revenues?\n",
    "* Which is the most expensive product and which is the cheapest?"
   ]
  },
  {
   "cell_type": "code",
   "execution_count": 41,
   "metadata": {
    "vscode": {
     "languageId": "r"
    }
   },
   "outputs": [
    {
     "data": {
      "text/html": [
       "15430.66"
      ],
      "text/latex": [
       "15430.66"
      ],
      "text/markdown": [
       "15430.66"
      ],
      "text/plain": [
       "[1] 15430.66"
      ]
     },
     "metadata": {},
     "output_type": "display_data"
    },
    {
     "data": {
      "text/html": [
       "16272.5"
      ],
      "text/latex": [
       "16272.5"
      ],
      "text/markdown": [
       "16272.5"
      ],
      "text/plain": [
       "[1] 16272.5"
      ]
     },
     "metadata": {},
     "output_type": "display_data"
    }
   ],
   "source": [
    "mean(dados_vendas[, 3])\n",
    "median(dados_vendas[, 3])"
   ]
  },
  {
   "cell_type": "code",
   "execution_count": 49,
   "metadata": {
    "vscode": {
     "languageId": "r"
    }
   },
   "outputs": [
    {
     "data": {
      "text/html": [
       "<strong>Laptop:</strong> 1"
      ],
      "text/latex": [
       "\\textbf{Laptop:} 1"
      ],
      "text/markdown": [
       "**Laptop:** 1"
      ],
      "text/plain": [
       "Laptop \n",
       "     1 "
      ]
     },
     "metadata": {},
     "output_type": "display_data"
    },
    {
     "data": {
      "text/html": [
       "<strong>Webcam:</strong> 3"
      ],
      "text/latex": [
       "\\textbf{Webcam:} 3"
      ],
      "text/markdown": [
       "**Webcam:** 3"
      ],
      "text/plain": [
       "Webcam \n",
       "     3 "
      ]
     },
     "metadata": {},
     "output_type": "display_data"
    }
   ],
   "source": [
    "which.max(dados_vendas[, 1])\n",
    "which.min(dados_vendas[, 1])"
   ]
  },
  {
   "cell_type": "code",
   "execution_count": 50,
   "metadata": {
    "vscode": {
     "languageId": "r"
    }
   },
   "outputs": [
    {
     "data": {
      "text/html": [
       "1230.75"
      ],
      "text/latex": [
       "1230.75"
      ],
      "text/markdown": [
       "1230.75"
      ],
      "text/plain": [
       "[1] 1230.75"
      ]
     },
     "metadata": {},
     "output_type": "display_data"
    }
   ],
   "source": [
    "valor_maior <- which.max(dados_vendas[, 1])\n",
    "dados_vendas[valor_maior, 1]"
   ]
  },
  {
   "cell_type": "code",
   "execution_count": 53,
   "metadata": {
    "vscode": {
     "languageId": "r"
    }
   },
   "outputs": [
    {
     "data": {
      "text/html": [
       "110.2"
      ],
      "text/latex": [
       "110.2"
      ],
      "text/markdown": [
       "110.2"
      ],
      "text/plain": [
       "[1] 110.2"
      ]
     },
     "metadata": {},
     "output_type": "display_data"
    }
   ],
   "source": [
    "valor_menor <- which.min(dados_vendas[, 1])\n",
    "dados_vendas[valor_menor,1]"
   ]
  },
  {
   "cell_type": "markdown",
   "metadata": {},
   "source": [
    "## Lesson 5: Factors"
   ]
  },
  {
   "cell_type": "code",
   "execution_count": 54,
   "metadata": {
    "vscode": {
     "languageId": "r"
    }
   },
   "outputs": [
    {
     "data": {
      "text/html": [
       "<style>\n",
       ".dl-inline {width: auto; margin:0; padding: 0}\n",
       ".dl-inline>dt, .dl-inline>dd {float: none; width: auto; display: inline-block}\n",
       ".dl-inline>dt::after {content: \":\\0020\"; padding-right: .5ex}\n",
       ".dl-inline>dt:not(:first-of-type) {padding-left: .5ex}\n",
       "</style><dl class=dl-inline><dt>Smartphone</dt><dd>'Entregue'</dd><dt>Notebook</dt><dd>'Em Trânsito'</dd><dt>Monitor</dt><dd>'Pendente'</dd><dt>Mouse</dt><dd>'Entregue'</dd><dt>Tablet</dt><dd>'Em Trânsito'</dd></dl>\n"
      ],
      "text/latex": [
       "\\begin{description*}\n",
       "\\item[Smartphone] 'Entregue'\n",
       "\\item[Notebook] 'Em Trânsito'\n",
       "\\item[Monitor] 'Pendente'\n",
       "\\item[Mouse] 'Entregue'\n",
       "\\item[Tablet] 'Em Trânsito'\n",
       "\\end{description*}\n"
      ],
      "text/markdown": [
       "Smartphone\n",
       ":   'Entregue'Notebook\n",
       ":   'Em Trânsito'Monitor\n",
       ":   'Pendente'Mouse\n",
       ":   'Entregue'Tablet\n",
       ":   'Em Trânsito'\n",
       "\n"
      ],
      "text/plain": [
       "   Smartphone      Notebook       Monitor         Mouse        Tablet \n",
       "   \"Entregue\" \"Em Trânsito\"    \"Pendente\"    \"Entregue\" \"Em Trânsito\" "
      ]
     },
     "metadata": {},
     "output_type": "display_data"
    }
   ],
   "source": [
    "status_entrega <- c(\"Entregue\", \"Em Trânsito\", \"Pendente\", \"Entregue\", \"Em Trânsito\")\n",
    "nomes_produtos <- c(\"Smartphone\", \"Notebook\", \"Monitor\", \"Mouse\", \"Tablet\")\n",
    "names(status_entrega) <- nomes_produtos\n",
    "status_entrega"
   ]
  },
  {
   "cell_type": "code",
   "execution_count": 55,
   "metadata": {
    "vscode": {
     "languageId": "r"
    }
   },
   "outputs": [
    {
     "data": {
      "text/html": [
       "<style>\n",
       ".dl-inline {width: auto; margin:0; padding: 0}\n",
       ".dl-inline>dt, .dl-inline>dd {float: none; width: auto; display: inline-block}\n",
       ".dl-inline>dt::after {content: \":\\0020\"; padding-right: .5ex}\n",
       ".dl-inline>dt:not(:first-of-type) {padding-left: .5ex}\n",
       "</style><dl class=dl-inline><dt>Smartphone</dt><dd>Entregue</dd><dt>Notebook</dt><dd>Em Trânsito</dd><dt>Monitor</dt><dd>Pendente</dd><dt>Mouse</dt><dd>Entregue</dd><dt>Tablet</dt><dd>Em Trânsito</dd></dl>\n",
       "\n",
       "<details>\n",
       "\t<summary style=display:list-item;cursor:pointer>\n",
       "\t\t<strong>Levels</strong>:\n",
       "\t</summary>\n",
       "\t<style>\n",
       "\t.list-inline {list-style: none; margin:0; padding: 0}\n",
       "\t.list-inline>li {display: inline-block}\n",
       "\t.list-inline>li:not(:last-child)::after {content: \"\\00b7\"; padding: 0 .5ex}\n",
       "\t</style>\n",
       "\t<ol class=list-inline><li>'Em Trânsito'</li><li>'Entregue'</li><li>'Pendente'</li></ol>\n",
       "</details>"
      ],
      "text/latex": [
       "\\begin{description*}\n",
       "\\item[Smartphone] Entregue\n",
       "\\item[Notebook] Em Trânsito\n",
       "\\item[Monitor] Pendente\n",
       "\\item[Mouse] Entregue\n",
       "\\item[Tablet] Em Trânsito\n",
       "\\end{description*}\n",
       "\n",
       "\\emph{Levels}: \\begin{enumerate*}\n",
       "\\item 'Em Trânsito'\n",
       "\\item 'Entregue'\n",
       "\\item 'Pendente'\n",
       "\\end{enumerate*}\n"
      ],
      "text/markdown": [
       "Smartphone\n",
       ":   EntregueNotebook\n",
       ":   Em TrânsitoMonitor\n",
       ":   PendenteMouse\n",
       ":   EntregueTablet\n",
       ":   Em Trânsito\n",
       "\n",
       "\n",
       "**Levels**: 1. 'Em Trânsito'\n",
       "2. 'Entregue'\n",
       "3. 'Pendente'\n",
       "\n",
       "\n"
      ],
      "text/plain": [
       " Smartphone    Notebook     Monitor       Mouse      Tablet \n",
       "   Entregue Em Trânsito    Pendente    Entregue Em Trânsito \n",
       "Levels: Em Trânsito Entregue Pendente"
      ]
     },
     "metadata": {},
     "output_type": "display_data"
    }
   ],
   "source": [
    "fator_entrega <- factor(status_entrega)\n",
    "\n",
    "fator_entrega"
   ]
  },
  {
   "cell_type": "code",
   "execution_count": 56,
   "metadata": {
    "vscode": {
     "languageId": "r"
    }
   },
   "outputs": [
    {
     "data": {
      "text/html": [
       "<style>\n",
       ".dl-inline {width: auto; margin:0; padding: 0}\n",
       ".dl-inline>dt, .dl-inline>dd {float: none; width: auto; display: inline-block}\n",
       ".dl-inline>dt::after {content: \":\\0020\"; padding-right: .5ex}\n",
       ".dl-inline>dt:not(:first-of-type) {padding-left: .5ex}\n",
       "</style><dl class=dl-inline><dt>Smartphone</dt><dd>Entregue</dd><dt>Notebook</dt><dd>Em Trânsito</dd><dt>Monitor</dt><dd>Pendente</dd><dt>Mouse</dt><dd>Entregue</dd><dt>Tablet</dt><dd>Em Trânsito</dd></dl>\n",
       "\n",
       "<details>\n",
       "\t<summary style=display:list-item;cursor:pointer>\n",
       "\t\t<strong>Levels</strong>:\n",
       "\t</summary>\n",
       "\t<style>\n",
       "\t.list-inline {list-style: none; margin:0; padding: 0}\n",
       "\t.list-inline>li {display: inline-block}\n",
       "\t.list-inline>li:not(:last-child)::after {content: \"\\00b7\"; padding: 0 .5ex}\n",
       "\t</style>\n",
       "\t<ol class=list-inline><li>'Em Trânsito'</li><li>'Pendente'</li><li>'Entregue'</li></ol>\n",
       "</details>"
      ],
      "text/latex": [
       "\\begin{description*}\n",
       "\\item[Smartphone] Entregue\n",
       "\\item[Notebook] Em Trânsito\n",
       "\\item[Monitor] Pendente\n",
       "\\item[Mouse] Entregue\n",
       "\\item[Tablet] Em Trânsito\n",
       "\\end{description*}\n",
       "\n",
       "\\emph{Levels}: \\begin{enumerate*}\n",
       "\\item 'Em Trânsito'\n",
       "\\item 'Pendente'\n",
       "\\item 'Entregue'\n",
       "\\end{enumerate*}\n"
      ],
      "text/markdown": [
       "Smartphone\n",
       ":   EntregueNotebook\n",
       ":   Em TrânsitoMonitor\n",
       ":   PendenteMouse\n",
       ":   EntregueTablet\n",
       ":   Em Trânsito\n",
       "\n",
       "\n",
       "**Levels**: 1. 'Em Trânsito'\n",
       "2. 'Pendente'\n",
       "3. 'Entregue'\n",
       "\n",
       "\n"
      ],
      "text/plain": [
       " Smartphone    Notebook     Monitor       Mouse      Tablet \n",
       "   Entregue Em Trânsito    Pendente    Entregue Em Trânsito \n",
       "Levels: Em Trânsito < Pendente < Entregue"
      ]
     },
     "metadata": {},
     "output_type": "display_data"
    }
   ],
   "source": [
    "fator_entrega <- factor(status_entrega, ordered = TRUE, levels = c('Em Trânsito', 'Pendente', 'Entregue'))\n",
    "\n",
    "fator_entrega"
   ]
  },
  {
   "cell_type": "code",
   "execution_count": 57,
   "metadata": {
    "vscode": {
     "languageId": "r"
    }
   },
   "outputs": [
    {
     "data": {
      "text/html": [
       "<style>\n",
       ".dl-inline {width: auto; margin:0; padding: 0}\n",
       ".dl-inline>dt, .dl-inline>dd {float: none; width: auto; display: inline-block}\n",
       ".dl-inline>dt::after {content: \":\\0020\"; padding-right: .5ex}\n",
       ".dl-inline>dt:not(:first-of-type) {padding-left: .5ex}\n",
       "</style><dl class=dl-inline><dt>Smartphone</dt><dd>Entregue</dd><dt>Notebook</dt><dd>Pendente</dd><dt>Monitor</dt><dd>Em Trânsito</dd><dt>Mouse</dt><dd>Entregue</dd><dt>Tablet</dt><dd>Pendente</dd></dl>\n",
       "\n",
       "<details>\n",
       "\t<summary style=display:list-item;cursor:pointer>\n",
       "\t\t<strong>Levels</strong>:\n",
       "\t</summary>\n",
       "\t<style>\n",
       "\t.list-inline {list-style: none; margin:0; padding: 0}\n",
       "\t.list-inline>li {display: inline-block}\n",
       "\t.list-inline>li:not(:last-child)::after {content: \"\\00b7\"; padding: 0 .5ex}\n",
       "\t</style>\n",
       "\t<ol class=list-inline><li>'Pendente'</li><li>'Em Trânsito'</li><li>'Entregue'</li></ol>\n",
       "</details>"
      ],
      "text/latex": [
       "\\begin{description*}\n",
       "\\item[Smartphone] Entregue\n",
       "\\item[Notebook] Pendente\n",
       "\\item[Monitor] Em Trânsito\n",
       "\\item[Mouse] Entregue\n",
       "\\item[Tablet] Pendente\n",
       "\\end{description*}\n",
       "\n",
       "\\emph{Levels}: \\begin{enumerate*}\n",
       "\\item 'Pendente'\n",
       "\\item 'Em Trânsito'\n",
       "\\item 'Entregue'\n",
       "\\end{enumerate*}\n"
      ],
      "text/markdown": [
       "Smartphone\n",
       ":   EntregueNotebook\n",
       ":   PendenteMonitor\n",
       ":   Em TrânsitoMouse\n",
       ":   EntregueTablet\n",
       ":   Pendente\n",
       "\n",
       "\n",
       "**Levels**: 1. 'Pendente'\n",
       "2. 'Em Trânsito'\n",
       "3. 'Entregue'\n",
       "\n",
       "\n"
      ],
      "text/plain": [
       " Smartphone    Notebook     Monitor       Mouse      Tablet \n",
       "   Entregue    Pendente Em Trânsito    Entregue    Pendente \n",
       "Levels: Pendente < Em Trânsito < Entregue"
      ]
     },
     "metadata": {},
     "output_type": "display_data"
    }
   ],
   "source": [
    "levels(fator_entrega) <- c('Pendente', 'Em Trânsito', 'Entregue')\n",
    "\n",
    "fator_entrega"
   ]
  },
  {
   "cell_type": "markdown",
   "metadata": {},
   "source": [
    "##### Difference in Relation to Python\n",
    "\n",
    "Unlike Python, R explicitly handles categorical variables using factors. While in Python, you can use objects like lists to represent categories, R introduces factors as a specific class for this purpose.\n",
    "\n",
    "Here are some specific benefits that make factors a distinctive choice for handling categorical variables:\n",
    "\n",
    "Explicit Data Type Definition:\n",
    "* R: The factor class is explicitly designed to represent categorical variables. This means that when you create a factor, R knows that the variable is categorical and handles it as such.\n",
    "* Python: In Python, categorical variables are often represented as strings or list objects, without a dedicated data structure for categories. The lack of a specific structure can lead to less clarity in interpreting the data type.\n",
    "\n",
    "Defining Levels:\n",
    "* R: When creating a factor, you can explicitly define the levels that the categorical variable can take. This helps ensure consistency in analyses, especially when working with data from different sources.\n",
    "* Python: In Python, the explicit definition of levels may not be as intuitive, and levels may be more prone to discrepancies because they depend on the order in which values appear.\n",
    "\n",
    "Ease of Reordering:\n",
    "* R: Factors make it easier to reorder categories. This is useful when creating plots or performing statistical analyses that require a specific order.\n",
    "* Python: In Python, reordering categories may involve more manual manipulation and, in some cases, may require the use of additional libraries.\n",
    "\n",
    "Use in Statistical Models:\n",
    "* R: Many statistical models in R automatically interpret factors correctly, incorporating the order and structure of the levels in the analysis.\n",
    "* Python: In Python, it may be necessary to preprocess categorical variables to ensure that statistical models interpret them correctly."
   ]
  },
  {
   "cell_type": "code",
   "execution_count": 58,
   "metadata": {
    "vscode": {
     "languageId": "r"
    }
   },
   "outputs": [
    {
     "data": {
      "text/html": [
       "<strong>Monitor:</strong> Em Trânsito\n",
       "<details>\n",
       "\t<summary style=display:list-item;cursor:pointer>\n",
       "\t\t<strong>Levels</strong>:\n",
       "\t</summary>\n",
       "\t<style>\n",
       "\t.list-inline {list-style: none; margin:0; padding: 0}\n",
       "\t.list-inline>li {display: inline-block}\n",
       "\t.list-inline>li:not(:last-child)::after {content: \"\\00b7\"; padding: 0 .5ex}\n",
       "\t</style>\n",
       "\t<ol class=list-inline><li>'Pendente'</li><li>'Em Trânsito'</li><li>'Entregue'</li></ol>\n",
       "</details>"
      ],
      "text/latex": [
       "\\textbf{Monitor:} Em Trânsito\n",
       "\\emph{Levels}: \\begin{enumerate*}\n",
       "\\item 'Pendente'\n",
       "\\item 'Em Trânsito'\n",
       "\\item 'Entregue'\n",
       "\\end{enumerate*}\n"
      ],
      "text/markdown": [
       "**Monitor:** Em Trânsito\n",
       "**Levels**: 1. 'Pendente'\n",
       "2. 'Em Trânsito'\n",
       "3. 'Entregue'\n",
       "\n",
       "\n"
      ],
      "text/plain": [
       "    Monitor \n",
       "Em Trânsito \n",
       "Levels: Pendente < Em Trânsito < Entregue"
      ]
     },
     "metadata": {},
     "output_type": "display_data"
    }
   ],
   "source": [
    "fator_entrega[3]"
   ]
  },
  {
   "cell_type": "code",
   "execution_count": 59,
   "metadata": {
    "vscode": {
     "languageId": "r"
    }
   },
   "outputs": [
    {
     "data": {
      "text/html": [
       "FALSE"
      ],
      "text/latex": [
       "FALSE"
      ],
      "text/markdown": [
       "FALSE"
      ],
      "text/plain": [
       "[1] FALSE"
      ]
     },
     "metadata": {},
     "output_type": "display_data"
    }
   ],
   "source": [
    "fator_entrega[3] > fator_entrega[4]"
   ]
  },
  {
   "cell_type": "code",
   "execution_count": 62,
   "metadata": {
    "vscode": {
     "languageId": "r"
    }
   },
   "outputs": [
    {
     "data": {
      "text/html": [
       "<style>\n",
       ".list-inline {list-style: none; margin:0; padding: 0}\n",
       ".list-inline>li {display: inline-block}\n",
       ".list-inline>li:not(:last-child)::after {content: \"\\00b7\"; padding: 0 .5ex}\n",
       "</style>\n",
       "<ol class=list-inline><li>FALSE</li><li>TRUE</li><li>TRUE</li><li>FALSE</li><li>TRUE</li></ol>\n"
      ],
      "text/latex": [
       "\\begin{enumerate*}\n",
       "\\item FALSE\n",
       "\\item TRUE\n",
       "\\item TRUE\n",
       "\\item FALSE\n",
       "\\item TRUE\n",
       "\\end{enumerate*}\n"
      ],
      "text/markdown": [
       "1. FALSE\n",
       "2. TRUE\n",
       "3. TRUE\n",
       "4. FALSE\n",
       "5. TRUE\n",
       "\n",
       "\n"
      ],
      "text/plain": [
       "[1] FALSE  TRUE  TRUE FALSE  TRUE"
      ]
     },
     "metadata": {},
     "output_type": "display_data"
    }
   ],
   "source": [
    "prioridade <- fator_entrega %in% c('Pendente', 'Em Trânsito')\n",
    "\n",
    "prioridade"
   ]
  },
  {
   "cell_type": "code",
   "execution_count": 63,
   "metadata": {
    "vscode": {
     "languageId": "r"
    }
   },
   "outputs": [
    {
     "data": {
      "text/html": [
       "<style>\n",
       ".dl-inline {width: auto; margin:0; padding: 0}\n",
       ".dl-inline>dt, .dl-inline>dd {float: none; width: auto; display: inline-block}\n",
       ".dl-inline>dt::after {content: \":\\0020\"; padding-right: .5ex}\n",
       ".dl-inline>dt:not(:first-of-type) {padding-left: .5ex}\n",
       "</style><dl class=dl-inline><dt>Notebook</dt><dd>Pendente</dd><dt>Monitor</dt><dd>Em Trânsito</dd><dt>Tablet</dt><dd>Pendente</dd></dl>\n",
       "\n",
       "<details>\n",
       "\t<summary style=display:list-item;cursor:pointer>\n",
       "\t\t<strong>Levels</strong>:\n",
       "\t</summary>\n",
       "\t<style>\n",
       "\t.list-inline {list-style: none; margin:0; padding: 0}\n",
       "\t.list-inline>li {display: inline-block}\n",
       "\t.list-inline>li:not(:last-child)::after {content: \"\\00b7\"; padding: 0 .5ex}\n",
       "\t</style>\n",
       "\t<ol class=list-inline><li>'Pendente'</li><li>'Em Trânsito'</li><li>'Entregue'</li></ol>\n",
       "</details>"
      ],
      "text/latex": [
       "\\begin{description*}\n",
       "\\item[Notebook] Pendente\n",
       "\\item[Monitor] Em Trânsito\n",
       "\\item[Tablet] Pendente\n",
       "\\end{description*}\n",
       "\n",
       "\\emph{Levels}: \\begin{enumerate*}\n",
       "\\item 'Pendente'\n",
       "\\item 'Em Trânsito'\n",
       "\\item 'Entregue'\n",
       "\\end{enumerate*}\n"
      ],
      "text/markdown": [
       "Notebook\n",
       ":   PendenteMonitor\n",
       ":   Em TrânsitoTablet\n",
       ":   Pendente\n",
       "\n",
       "\n",
       "**Levels**: 1. 'Pendente'\n",
       "2. 'Em Trânsito'\n",
       "3. 'Entregue'\n",
       "\n",
       "\n"
      ],
      "text/plain": [
       "   Notebook     Monitor      Tablet \n",
       "   Pendente Em Trânsito    Pendente \n",
       "Levels: Pendente < Em Trânsito < Entregue"
      ]
     },
     "metadata": {},
     "output_type": "display_data"
    }
   ],
   "source": [
    "fator_entrega[prioridade]"
   ]
  },
  {
   "cell_type": "code",
   "execution_count": 64,
   "metadata": {
    "vscode": {
     "languageId": "r"
    }
   },
   "outputs": [
    {
     "data": {
      "text/html": [
       "2"
      ],
      "text/latex": [
       "2"
      ],
      "text/markdown": [
       "2"
      ],
      "text/plain": [
       "[1] 2"
      ]
     },
     "metadata": {},
     "output_type": "display_data"
    },
    {
     "data": {
      "text/html": [
       "1"
      ],
      "text/latex": [
       "1"
      ],
      "text/markdown": [
       "1"
      ],
      "text/plain": [
       "[1] 1"
      ]
     },
     "metadata": {},
     "output_type": "display_data"
    },
    {
     "data": {
      "text/html": [
       "2"
      ],
      "text/latex": [
       "2"
      ],
      "text/markdown": [
       "2"
      ],
      "text/plain": [
       "[1] 2"
      ]
     },
     "metadata": {},
     "output_type": "display_data"
    }
   ],
   "source": [
    "cont_pendente <- sum(fator_entrega == 'Pendente')\n",
    "\n",
    "cont_transito <- sum(fator_entrega == 'Em Trânsito')\n",
    "\n",
    "cont_entregue <- sum(fator_entrega == 'Entregue')\n",
    "\n",
    "cont_pendente\n",
    "cont_transito\n",
    "cont_entregue"
   ]
  }
 ],
 "metadata": {
  "kernelspec": {
   "display_name": "R",
   "language": "R",
   "name": "ir"
  },
  "language_info": {
   "codemirror_mode": "r",
   "file_extension": ".r",
   "mimetype": "text/x-r-source",
   "name": "R",
   "pygments_lexer": "r",
   "version": "4.3.1"
  }
 },
 "nbformat": 4,
 "nbformat_minor": 2
}
