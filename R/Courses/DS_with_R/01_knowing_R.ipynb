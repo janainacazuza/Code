{
 "cells": [
  {
   "cell_type": "markdown",
   "metadata": {},
   "source": [
    "## Begining in R language"
   ]
  },
  {
   "cell_type": "markdown",
   "metadata": {},
   "source": [
    "## Lesson 1: knowing the data"
   ]
  },
  {
   "cell_type": "code",
   "execution_count": 1,
   "metadata": {
    "vscode": {
     "languageId": "r"
    }
   },
   "outputs": [
    {
     "data": {
      "text/html": [
       "<style>\n",
       ".list-inline {list-style: none; margin:0; padding: 0}\n",
       ".list-inline>li {display: inline-block}\n",
       ".list-inline>li:not(:last-child)::after {content: \"\\00b7\"; padding: 0 .5ex}\n",
       "</style>\n",
       "<ol class=list-inline><li>'Ana Silva'</li><li>'28'</li><li>'6230.5'</li><li>'Não possui'</li><li>'TRUE'</li></ol>\n"
      ],
      "text/latex": [
       "\\begin{enumerate*}\n",
       "\\item 'Ana Silva'\n",
       "\\item '28'\n",
       "\\item '6230.5'\n",
       "\\item 'Não possui'\n",
       "\\item 'TRUE'\n",
       "\\end{enumerate*}\n"
      ],
      "text/markdown": [
       "1. 'Ana Silva'\n",
       "2. '28'\n",
       "3. '6230.5'\n",
       "4. 'Não possui'\n",
       "5. 'TRUE'\n",
       "\n",
       "\n"
      ],
      "text/plain": [
       "[1] \"Ana Silva\"  \"28\"         \"6230.5\"     \"Não possui\" \"TRUE\"      "
      ]
     },
     "metadata": {},
     "output_type": "display_data"
    }
   ],
   "source": [
    "ana_silva <- c('Ana Silva', 28, 6230.50, 'Não possui', TRUE)\n",
    "ana_silva"
   ]
  },
  {
   "cell_type": "code",
   "execution_count": 2,
   "metadata": {
    "vscode": {
     "languageId": "r"
    }
   },
   "outputs": [
    {
     "data": {
      "text/html": [
       "<style>\n",
       ".dl-inline {width: auto; margin:0; padding: 0}\n",
       ".dl-inline>dt, .dl-inline>dd {float: none; width: auto; display: inline-block}\n",
       ".dl-inline>dt::after {content: \":\\0020\"; padding-right: .5ex}\n",
       ".dl-inline>dt:not(:first-of-type) {padding-left: .5ex}\n",
       "</style><dl class=dl-inline><dt>Nome</dt><dd>'Ana Silva'</dd><dt>Idade</dt><dd>'28'</dd><dt>Salário</dt><dd>'6230.5'</dd><dt>Telefone</dt><dd>'Não possui'</dd><dt>Trabalho remoto</dt><dd>'TRUE'</dd></dl>\n"
      ],
      "text/latex": [
       "\\begin{description*}\n",
       "\\item[Nome] 'Ana Silva'\n",
       "\\item[Idade] '28'\n",
       "\\item[Salário] '6230.5'\n",
       "\\item[Telefone] 'Não possui'\n",
       "\\item[Trabalho remoto] 'TRUE'\n",
       "\\end{description*}\n"
      ],
      "text/markdown": [
       "Nome\n",
       ":   'Ana Silva'Idade\n",
       ":   '28'Salário\n",
       ":   '6230.5'Telefone\n",
       ":   'Não possui'Trabalho remoto\n",
       ":   'TRUE'\n",
       "\n"
      ],
      "text/plain": [
       "           Nome           Idade         Salário        Telefone Trabalho remoto \n",
       "    \"Ana Silva\"            \"28\"        \"6230.5\"    \"Não possui\"          \"TRUE\" "
      ]
     },
     "metadata": {},
     "output_type": "display_data"
    }
   ],
   "source": [
    "names(ana_silva) <- c('Nome', 'Idade', 'Salário', 'Telefone', 'Trabalho remoto')\n",
    "ana_silva"
   ]
  },
  {
   "cell_type": "code",
   "execution_count": 3,
   "metadata": {
    "vscode": {
     "languageId": "r"
    }
   },
   "outputs": [],
   "source": [
    "carlos_oliveira <- c('Carlos Oliveira', 35, 7500.75, '(11) 1234-5678', TRUE)\n",
    "\n",
    "maria_santos <- c('Maria Santos', 40, 8000.25, '(21) 9876-5432', TRUE)\n",
    "\n",
    "joao_costa <- c('Joao Costa', '32', 2460.80, 'Não possui', FALSE)\n",
    "\n",
    "fernanda_lima <- c('Fernanda Lima', 27, 4230.35, '(31) 8765-4321', TRUE)\n"
   ]
  },
  {
   "cell_type": "markdown",
   "metadata": {},
   "source": [
    "### Creating a matrix\n",
    "\n",
    "To create a matrix in R, we use a function called matrix() which takes four arguments:\n",
    "\n",
    "* vector: the data we will use to create the matrix;\n",
    "* nrow: the number of rows we want in the matrix;\n",
    "* ncol: the number of columns we want in the matrix;\n",
    "* byrow (optional): specifies whether we want to create the matrix by rows or columns. If set to TRUE, it will create the matrix by rows. If set to FALSE, it will create the matrix by columns."
   ]
  },
  {
   "cell_type": "code",
   "execution_count": 4,
   "metadata": {
    "vscode": {
     "languageId": "r"
    }
   },
   "outputs": [],
   "source": [
    "colab_combinado <- c(ana_silva, carlos_oliveira, maria_santos, joao_costa, fernanda_lima)"
   ]
  },
  {
   "cell_type": "code",
   "execution_count": 6,
   "metadata": {
    "vscode": {
     "languageId": "r"
    }
   },
   "outputs": [
    {
     "data": {
      "text/html": [
       "<table class=\"dataframe\">\n",
       "<caption>A matrix: 5 × 5 of type chr</caption>\n",
       "<tbody>\n",
       "\t<tr><td>Ana Silva      </td><td>28</td><td>6230.5 </td><td>Não possui    </td><td>TRUE </td></tr>\n",
       "\t<tr><td>Carlos Oliveira</td><td>35</td><td>7500.75</td><td>(11) 1234-5678</td><td>TRUE </td></tr>\n",
       "\t<tr><td>Maria Santos   </td><td>40</td><td>8000.25</td><td>(21) 9876-5432</td><td>TRUE </td></tr>\n",
       "\t<tr><td>Joao Costa     </td><td>32</td><td>2460.8 </td><td>Não possui    </td><td>FALSE</td></tr>\n",
       "\t<tr><td>Fernanda Lima  </td><td>27</td><td>4230.35</td><td>(31) 8765-4321</td><td>TRUE </td></tr>\n",
       "</tbody>\n",
       "</table>\n"
      ],
      "text/latex": [
       "A matrix: 5 × 5 of type chr\n",
       "\\begin{tabular}{lllll}\n",
       "\t Ana Silva       & 28 & 6230.5  & Não possui     & TRUE \\\\\n",
       "\t Carlos Oliveira & 35 & 7500.75 & (11) 1234-5678 & TRUE \\\\\n",
       "\t Maria Santos    & 40 & 8000.25 & (21) 9876-5432 & TRUE \\\\\n",
       "\t Joao Costa      & 32 & 2460.8  & Não possui     & FALSE\\\\\n",
       "\t Fernanda Lima   & 27 & 4230.35 & (31) 8765-4321 & TRUE \\\\\n",
       "\\end{tabular}\n"
      ],
      "text/markdown": [
       "\n",
       "A matrix: 5 × 5 of type chr\n",
       "\n",
       "| Ana Silva       | 28 | 6230.5  | Não possui     | TRUE  |\n",
       "| Carlos Oliveira | 35 | 7500.75 | (11) 1234-5678 | TRUE  |\n",
       "| Maria Santos    | 40 | 8000.25 | (21) 9876-5432 | TRUE  |\n",
       "| Joao Costa      | 32 | 2460.8  | Não possui     | FALSE |\n",
       "| Fernanda Lima   | 27 | 4230.35 | (31) 8765-4321 | TRUE  |\n",
       "\n"
      ],
      "text/plain": [
       "     [,1]            [,2] [,3]    [,4]           [,5] \n",
       "[1,] Ana Silva       28   6230.5  Não possui     TRUE \n",
       "[2,] Carlos Oliveira 35   7500.75 (11) 1234-5678 TRUE \n",
       "[3,] Maria Santos    40   8000.25 (21) 9876-5432 TRUE \n",
       "[4,] Joao Costa      32   2460.8  Não possui     FALSE\n",
       "[5,] Fernanda Lima   27   4230.35 (31) 8765-4321 TRUE "
      ]
     },
     "metadata": {},
     "output_type": "display_data"
    }
   ],
   "source": [
    "matriz_colab <- matrix(colab_combinado, nrow = 5, byrow = TRUE)\n",
    "matriz_colab"
   ]
  },
  {
   "cell_type": "code",
   "execution_count": 8,
   "metadata": {
    "vscode": {
     "languageId": "r"
    }
   },
   "outputs": [
    {
     "data": {
      "text/html": [
       "<table class=\"dataframe\">\n",
       "<caption>A matrix: 5 × 5 of type chr</caption>\n",
       "<thead>\n",
       "\t<tr><th></th><th scope=col>Nome</th><th scope=col>Idade</th><th scope=col>Salário</th><th scope=col>Telefone</th><th scope=col>Trabalho remoto</th></tr>\n",
       "</thead>\n",
       "<tbody>\n",
       "\t<tr><th scope=row>Colaboradora Ana</th><td>Ana Silva      </td><td>28</td><td>6230.5 </td><td>Não possui    </td><td>TRUE </td></tr>\n",
       "\t<tr><th scope=row>Colaborador Carlos</th><td>Carlos Oliveira</td><td>35</td><td>7500.75</td><td>(11) 1234-5678</td><td>TRUE </td></tr>\n",
       "\t<tr><th scope=row>Colaboradora Maria</th><td>Maria Santos   </td><td>40</td><td>8000.25</td><td>(21) 9876-5432</td><td>TRUE </td></tr>\n",
       "\t<tr><th scope=row>Colaborador Joao</th><td>Joao Costa     </td><td>32</td><td>2460.8 </td><td>Não possui    </td><td>FALSE</td></tr>\n",
       "\t<tr><th scope=row>Colaboradora Fernanda</th><td>Fernanda Lima  </td><td>27</td><td>4230.35</td><td>(31) 8765-4321</td><td>TRUE </td></tr>\n",
       "</tbody>\n",
       "</table>\n"
      ],
      "text/latex": [
       "A matrix: 5 × 5 of type chr\n",
       "\\begin{tabular}{r|lllll}\n",
       "  & Nome & Idade & Salário & Telefone & Trabalho remoto\\\\\n",
       "\\hline\n",
       "\tColaboradora Ana & Ana Silva       & 28 & 6230.5  & Não possui     & TRUE \\\\\n",
       "\tColaborador Carlos & Carlos Oliveira & 35 & 7500.75 & (11) 1234-5678 & TRUE \\\\\n",
       "\tColaboradora Maria & Maria Santos    & 40 & 8000.25 & (21) 9876-5432 & TRUE \\\\\n",
       "\tColaborador Joao & Joao Costa      & 32 & 2460.8  & Não possui     & FALSE\\\\\n",
       "\tColaboradora Fernanda & Fernanda Lima   & 27 & 4230.35 & (31) 8765-4321 & TRUE \\\\\n",
       "\\end{tabular}\n"
      ],
      "text/markdown": [
       "\n",
       "A matrix: 5 × 5 of type chr\n",
       "\n",
       "| <!--/--> | Nome | Idade | Salário | Telefone | Trabalho remoto |\n",
       "|---|---|---|---|---|---|\n",
       "| Colaboradora Ana | Ana Silva       | 28 | 6230.5  | Não possui     | TRUE  |\n",
       "| Colaborador Carlos | Carlos Oliveira | 35 | 7500.75 | (11) 1234-5678 | TRUE  |\n",
       "| Colaboradora Maria | Maria Santos    | 40 | 8000.25 | (21) 9876-5432 | TRUE  |\n",
       "| Colaborador Joao | Joao Costa      | 32 | 2460.8  | Não possui     | FALSE |\n",
       "| Colaboradora Fernanda | Fernanda Lima   | 27 | 4230.35 | (31) 8765-4321 | TRUE  |\n",
       "\n"
      ],
      "text/plain": [
       "                      Nome            Idade Salário Telefone      \n",
       "Colaboradora Ana      Ana Silva       28    6230.5  Não possui    \n",
       "Colaborador Carlos    Carlos Oliveira 35    7500.75 (11) 1234-5678\n",
       "Colaboradora Maria    Maria Santos    40    8000.25 (21) 9876-5432\n",
       "Colaborador Joao      Joao Costa      32    2460.8  Não possui    \n",
       "Colaboradora Fernanda Fernanda Lima   27    4230.35 (31) 8765-4321\n",
       "                      Trabalho remoto\n",
       "Colaboradora Ana      TRUE           \n",
       "Colaborador Carlos    TRUE           \n",
       "Colaboradora Maria    TRUE           \n",
       "Colaborador Joao      FALSE          \n",
       "Colaboradora Fernanda TRUE           "
      ]
     },
     "metadata": {},
     "output_type": "display_data"
    }
   ],
   "source": [
    "rownames(matriz_colab) <- c('Colaboradora Ana', 'Colaborador Carlos', 'Colaboradora Maria', 'Colaborador Joao', 'Colaboradora Fernanda')\n",
    "colnames(matriz_colab) <- c('Nome','Idade','Salário','Telefone','Trabalho remoto')\n",
    "\n",
    "matriz_colab"
   ]
  },
  {
   "cell_type": "markdown",
   "metadata": {},
   "source": [
    "## Lesson 2: manipulating data"
   ]
  },
  {
   "cell_type": "code",
   "execution_count": 13,
   "metadata": {
    "vscode": {
     "languageId": "r"
    }
   },
   "outputs": [],
   "source": [
    "# Vector with values of sales for each month\n",
    "vendas_jan <- c(20, 18, 25, 16, 23)\n",
    "vendas_fev <- c(15, 20, 22, 18, 19)\n",
    "vendas_mar <- c(25, 23, 20, 17, 21)\n",
    "vendas_abr <- c(18, 15, 19, 20, 24)\n",
    "vendas_mai <- c(22, 25, 21, 15, 18)\n",
    "vendas_jun <- c(21, 22, 19, 17, 20)"
   ]
  },
  {
   "cell_type": "code",
   "execution_count": 12,
   "metadata": {
    "vscode": {
     "languageId": "r"
    }
   },
   "outputs": [],
   "source": [
    "# Names of the salespeople\n",
    "pessoas <- c(\"Pedro Santos\", \"Carla Nunes\", \"Maria Eduarda\", \"Luiz Felipe\", \"Julio Costa\")\n",
    "\n",
    "# Months\n",
    "meses <- c(\"Janeiro\", \"Fevereiro\", \"Marco\", \"Abril\", \"Maio\", \"Junho\")"
   ]
  },
  {
   "cell_type": "code",
   "execution_count": 14,
   "metadata": {
    "vscode": {
     "languageId": "r"
    }
   },
   "outputs": [],
   "source": [
    "# Combining the vectors\n",
    "vendas_semestre <- c(vendas_jan, vendas_fev, vendas_mar, vendas_abr, vendas_mai, vendas_jun)\n",
    "\n",
    "# Sale by month and salesperson\n",
    "matriz_vendas <- matrix(vendas_semestre, nrow = 5, byrow = FALSE)"
   ]
  },
  {
   "cell_type": "code",
   "execution_count": 15,
   "metadata": {
    "vscode": {
     "languageId": "r"
    }
   },
   "outputs": [
    {
     "data": {
      "text/html": [
       "<table class=\"dataframe\">\n",
       "<caption>A matrix: 5 × 6 of type dbl</caption>\n",
       "<thead>\n",
       "\t<tr><th></th><th scope=col>Janeiro</th><th scope=col>Fevereiro</th><th scope=col>Marco</th><th scope=col>Abril</th><th scope=col>Maio</th><th scope=col>Junho</th></tr>\n",
       "</thead>\n",
       "<tbody>\n",
       "\t<tr><th scope=row>Pedro Santos</th><td>20</td><td>15</td><td>25</td><td>18</td><td>22</td><td>21</td></tr>\n",
       "\t<tr><th scope=row>Carla Nunes</th><td>18</td><td>20</td><td>23</td><td>15</td><td>25</td><td>22</td></tr>\n",
       "\t<tr><th scope=row>Maria Eduarda</th><td>25</td><td>22</td><td>20</td><td>19</td><td>21</td><td>19</td></tr>\n",
       "\t<tr><th scope=row>Luiz Felipe</th><td>16</td><td>18</td><td>17</td><td>20</td><td>15</td><td>17</td></tr>\n",
       "\t<tr><th scope=row>Julio Costa</th><td>23</td><td>19</td><td>21</td><td>24</td><td>18</td><td>20</td></tr>\n",
       "</tbody>\n",
       "</table>\n"
      ],
      "text/latex": [
       "A matrix: 5 × 6 of type dbl\n",
       "\\begin{tabular}{r|llllll}\n",
       "  & Janeiro & Fevereiro & Marco & Abril & Maio & Junho\\\\\n",
       "\\hline\n",
       "\tPedro Santos & 20 & 15 & 25 & 18 & 22 & 21\\\\\n",
       "\tCarla Nunes & 18 & 20 & 23 & 15 & 25 & 22\\\\\n",
       "\tMaria Eduarda & 25 & 22 & 20 & 19 & 21 & 19\\\\\n",
       "\tLuiz Felipe & 16 & 18 & 17 & 20 & 15 & 17\\\\\n",
       "\tJulio Costa & 23 & 19 & 21 & 24 & 18 & 20\\\\\n",
       "\\end{tabular}\n"
      ],
      "text/markdown": [
       "\n",
       "A matrix: 5 × 6 of type dbl\n",
       "\n",
       "| <!--/--> | Janeiro | Fevereiro | Marco | Abril | Maio | Junho |\n",
       "|---|---|---|---|---|---|---|\n",
       "| Pedro Santos | 20 | 15 | 25 | 18 | 22 | 21 |\n",
       "| Carla Nunes | 18 | 20 | 23 | 15 | 25 | 22 |\n",
       "| Maria Eduarda | 25 | 22 | 20 | 19 | 21 | 19 |\n",
       "| Luiz Felipe | 16 | 18 | 17 | 20 | 15 | 17 |\n",
       "| Julio Costa | 23 | 19 | 21 | 24 | 18 | 20 |\n",
       "\n"
      ],
      "text/plain": [
       "              Janeiro Fevereiro Marco Abril Maio Junho\n",
       "Pedro Santos  20      15        25    18    22   21   \n",
       "Carla Nunes   18      20        23    15    25   22   \n",
       "Maria Eduarda 25      22        20    19    21   19   \n",
       "Luiz Felipe   16      18        17    20    15   17   \n",
       "Julio Costa   23      19        21    24    18   20   "
      ]
     },
     "metadata": {},
     "output_type": "display_data"
    }
   ],
   "source": [
    "# Set the row and column names\n",
    "rownames(matriz_vendas) <- pessoas\n",
    "colnames(matriz_vendas) <- meses\n",
    "# Show the matrix\n",
    "matriz_vendas"
   ]
  },
  {
   "cell_type": "markdown",
   "metadata": {},
   "source": [
    "##### Questions to answer:\n",
    "* Which collaborator had the highest sales revenue?\n",
    "* Which month had the highest revenue?"
   ]
  },
  {
   "cell_type": "code",
   "execution_count": 16,
   "metadata": {
    "vscode": {
     "languageId": "r"
    }
   },
   "outputs": [
    {
     "data": {
      "text/html": [
       "<style>\n",
       ".dl-inline {width: auto; margin:0; padding: 0}\n",
       ".dl-inline>dt, .dl-inline>dd {float: none; width: auto; display: inline-block}\n",
       ".dl-inline>dt::after {content: \":\\0020\"; padding-right: .5ex}\n",
       ".dl-inline>dt:not(:first-of-type) {padding-left: .5ex}\n",
       "</style><dl class=dl-inline><dt>Pedro Santos</dt><dd>121</dd><dt>Carla Nunes</dt><dd>123</dd><dt>Maria Eduarda</dt><dd>126</dd><dt>Luiz Felipe</dt><dd>103</dd><dt>Julio Costa</dt><dd>125</dd></dl>\n"
      ],
      "text/latex": [
       "\\begin{description*}\n",
       "\\item[Pedro Santos] 121\n",
       "\\item[Carla Nunes] 123\n",
       "\\item[Maria Eduarda] 126\n",
       "\\item[Luiz Felipe] 103\n",
       "\\item[Julio Costa] 125\n",
       "\\end{description*}\n"
      ],
      "text/markdown": [
       "Pedro Santos\n",
       ":   121Carla Nunes\n",
       ":   123Maria Eduarda\n",
       ":   126Luiz Felipe\n",
       ":   103Julio Costa\n",
       ":   125\n",
       "\n"
      ],
      "text/plain": [
       " Pedro Santos   Carla Nunes Maria Eduarda   Luiz Felipe   Julio Costa \n",
       "          121           123           126           103           125 "
      ]
     },
     "metadata": {},
     "output_type": "display_data"
    }
   ],
   "source": [
    "rowSums(matriz_vendas)"
   ]
  },
  {
   "cell_type": "code",
   "execution_count": 17,
   "metadata": {
    "vscode": {
     "languageId": "r"
    }
   },
   "outputs": [
    {
     "data": {
      "text/html": [
       "<style>\n",
       ".dl-inline {width: auto; margin:0; padding: 0}\n",
       ".dl-inline>dt, .dl-inline>dd {float: none; width: auto; display: inline-block}\n",
       ".dl-inline>dt::after {content: \":\\0020\"; padding-right: .5ex}\n",
       ".dl-inline>dt:not(:first-of-type) {padding-left: .5ex}\n",
       "</style><dl class=dl-inline><dt>Janeiro</dt><dd>102</dd><dt>Fevereiro</dt><dd>94</dd><dt>Marco</dt><dd>106</dd><dt>Abril</dt><dd>96</dd><dt>Maio</dt><dd>101</dd><dt>Junho</dt><dd>99</dd></dl>\n"
      ],
      "text/latex": [
       "\\begin{description*}\n",
       "\\item[Janeiro] 102\n",
       "\\item[Fevereiro] 94\n",
       "\\item[Marco] 106\n",
       "\\item[Abril] 96\n",
       "\\item[Maio] 101\n",
       "\\item[Junho] 99\n",
       "\\end{description*}\n"
      ],
      "text/markdown": [
       "Janeiro\n",
       ":   102Fevereiro\n",
       ":   94Marco\n",
       ":   106Abril\n",
       ":   96Maio\n",
       ":   101Junho\n",
       ":   99\n",
       "\n"
      ],
      "text/plain": [
       "  Janeiro Fevereiro     Marco     Abril      Maio     Junho \n",
       "      102        94       106        96       101        99 "
      ]
     },
     "metadata": {},
     "output_type": "display_data"
    }
   ],
   "source": [
    "colSums(matriz_vendas)"
   ]
  },
  {
   "cell_type": "markdown",
   "metadata": {},
   "source": [
    "##### Questions to answer:\n",
    "* Which collaborator had the highest sales revenue? Maria Eduarda\n",
    "* Which month had the highest revenue? Março"
   ]
  },
  {
   "cell_type": "markdown",
   "metadata": {},
   "source": []
  },
  {
   "cell_type": "code",
   "execution_count": 18,
   "metadata": {
    "vscode": {
     "languageId": "r"
    }
   },
   "outputs": [
    {
     "data": {
      "text/html": [
       "<table class=\"dataframe\">\n",
       "<caption>A matrix: 5 × 7 of type dbl</caption>\n",
       "<thead>\n",
       "\t<tr><th></th><th scope=col>Janeiro</th><th scope=col>Fevereiro</th><th scope=col>Marco</th><th scope=col>Abril</th><th scope=col>Maio</th><th scope=col>Junho</th><th scope=col>total_colab</th></tr>\n",
       "</thead>\n",
       "<tbody>\n",
       "\t<tr><th scope=row>Pedro Santos</th><td>20</td><td>15</td><td>25</td><td>18</td><td>22</td><td>21</td><td>121</td></tr>\n",
       "\t<tr><th scope=row>Carla Nunes</th><td>18</td><td>20</td><td>23</td><td>15</td><td>25</td><td>22</td><td>123</td></tr>\n",
       "\t<tr><th scope=row>Maria Eduarda</th><td>25</td><td>22</td><td>20</td><td>19</td><td>21</td><td>19</td><td>126</td></tr>\n",
       "\t<tr><th scope=row>Luiz Felipe</th><td>16</td><td>18</td><td>17</td><td>20</td><td>15</td><td>17</td><td>103</td></tr>\n",
       "\t<tr><th scope=row>Julio Costa</th><td>23</td><td>19</td><td>21</td><td>24</td><td>18</td><td>20</td><td>125</td></tr>\n",
       "</tbody>\n",
       "</table>\n"
      ],
      "text/latex": [
       "A matrix: 5 × 7 of type dbl\n",
       "\\begin{tabular}{r|lllllll}\n",
       "  & Janeiro & Fevereiro & Marco & Abril & Maio & Junho & total\\_colab\\\\\n",
       "\\hline\n",
       "\tPedro Santos & 20 & 15 & 25 & 18 & 22 & 21 & 121\\\\\n",
       "\tCarla Nunes & 18 & 20 & 23 & 15 & 25 & 22 & 123\\\\\n",
       "\tMaria Eduarda & 25 & 22 & 20 & 19 & 21 & 19 & 126\\\\\n",
       "\tLuiz Felipe & 16 & 18 & 17 & 20 & 15 & 17 & 103\\\\\n",
       "\tJulio Costa & 23 & 19 & 21 & 24 & 18 & 20 & 125\\\\\n",
       "\\end{tabular}\n"
      ],
      "text/markdown": [
       "\n",
       "A matrix: 5 × 7 of type dbl\n",
       "\n",
       "| <!--/--> | Janeiro | Fevereiro | Marco | Abril | Maio | Junho | total_colab |\n",
       "|---|---|---|---|---|---|---|---|\n",
       "| Pedro Santos | 20 | 15 | 25 | 18 | 22 | 21 | 121 |\n",
       "| Carla Nunes | 18 | 20 | 23 | 15 | 25 | 22 | 123 |\n",
       "| Maria Eduarda | 25 | 22 | 20 | 19 | 21 | 19 | 126 |\n",
       "| Luiz Felipe | 16 | 18 | 17 | 20 | 15 | 17 | 103 |\n",
       "| Julio Costa | 23 | 19 | 21 | 24 | 18 | 20 | 125 |\n",
       "\n"
      ],
      "text/plain": [
       "              Janeiro Fevereiro Marco Abril Maio Junho total_colab\n",
       "Pedro Santos  20      15        25    18    22   21    121        \n",
       "Carla Nunes   18      20        23    15    25   22    123        \n",
       "Maria Eduarda 25      22        20    19    21   19    126        \n",
       "Luiz Felipe   16      18        17    20    15   17    103        \n",
       "Julio Costa   23      19        21    24    18   20    125        "
      ]
     },
     "metadata": {},
     "output_type": "display_data"
    }
   ],
   "source": [
    "total_colab <- rowSums(matriz_vendas)\n",
    "\n",
    "matriz_total_colab <- cbind(matriz_vendas, total_colab)\n",
    "matriz_total_colab"
   ]
  },
  {
   "cell_type": "code",
   "execution_count": 19,
   "metadata": {
    "vscode": {
     "languageId": "r"
    }
   },
   "outputs": [
    {
     "data": {
      "text/html": [
       "<table class=\"dataframe\">\n",
       "<caption>A matrix: 6 × 6 of type dbl</caption>\n",
       "<thead>\n",
       "\t<tr><th></th><th scope=col>Janeiro</th><th scope=col>Fevereiro</th><th scope=col>Marco</th><th scope=col>Abril</th><th scope=col>Maio</th><th scope=col>Junho</th></tr>\n",
       "</thead>\n",
       "<tbody>\n",
       "\t<tr><th scope=row>Pedro Santos</th><td> 20</td><td>15</td><td> 25</td><td>18</td><td> 22</td><td>21</td></tr>\n",
       "\t<tr><th scope=row>Carla Nunes</th><td> 18</td><td>20</td><td> 23</td><td>15</td><td> 25</td><td>22</td></tr>\n",
       "\t<tr><th scope=row>Maria Eduarda</th><td> 25</td><td>22</td><td> 20</td><td>19</td><td> 21</td><td>19</td></tr>\n",
       "\t<tr><th scope=row>Luiz Felipe</th><td> 16</td><td>18</td><td> 17</td><td>20</td><td> 15</td><td>17</td></tr>\n",
       "\t<tr><th scope=row>Julio Costa</th><td> 23</td><td>19</td><td> 21</td><td>24</td><td> 18</td><td>20</td></tr>\n",
       "\t<tr><th scope=row>total_meses</th><td>102</td><td>94</td><td>106</td><td>96</td><td>101</td><td>99</td></tr>\n",
       "</tbody>\n",
       "</table>\n"
      ],
      "text/latex": [
       "A matrix: 6 × 6 of type dbl\n",
       "\\begin{tabular}{r|llllll}\n",
       "  & Janeiro & Fevereiro & Marco & Abril & Maio & Junho\\\\\n",
       "\\hline\n",
       "\tPedro Santos &  20 & 15 &  25 & 18 &  22 & 21\\\\\n",
       "\tCarla Nunes &  18 & 20 &  23 & 15 &  25 & 22\\\\\n",
       "\tMaria Eduarda &  25 & 22 &  20 & 19 &  21 & 19\\\\\n",
       "\tLuiz Felipe &  16 & 18 &  17 & 20 &  15 & 17\\\\\n",
       "\tJulio Costa &  23 & 19 &  21 & 24 &  18 & 20\\\\\n",
       "\ttotal\\_meses & 102 & 94 & 106 & 96 & 101 & 99\\\\\n",
       "\\end{tabular}\n"
      ],
      "text/markdown": [
       "\n",
       "A matrix: 6 × 6 of type dbl\n",
       "\n",
       "| <!--/--> | Janeiro | Fevereiro | Marco | Abril | Maio | Junho |\n",
       "|---|---|---|---|---|---|---|\n",
       "| Pedro Santos |  20 | 15 |  25 | 18 |  22 | 21 |\n",
       "| Carla Nunes |  18 | 20 |  23 | 15 |  25 | 22 |\n",
       "| Maria Eduarda |  25 | 22 |  20 | 19 |  21 | 19 |\n",
       "| Luiz Felipe |  16 | 18 |  17 | 20 |  15 | 17 |\n",
       "| Julio Costa |  23 | 19 |  21 | 24 |  18 | 20 |\n",
       "| total_meses | 102 | 94 | 106 | 96 | 101 | 99 |\n",
       "\n"
      ],
      "text/plain": [
       "              Janeiro Fevereiro Marco Abril Maio Junho\n",
       "Pedro Santos   20     15         25   18     22  21   \n",
       "Carla Nunes    18     20         23   15     25  22   \n",
       "Maria Eduarda  25     22         20   19     21  19   \n",
       "Luiz Felipe    16     18         17   20     15  17   \n",
       "Julio Costa    23     19         21   24     18  20   \n",
       "total_meses   102     94        106   96    101  99   "
      ]
     },
     "metadata": {},
     "output_type": "display_data"
    }
   ],
   "source": [
    "total_meses <- colSums(matriz_vendas)\n",
    "\n",
    "matriz_total_meses <- rbind(matriz_vendas, total_meses)\n",
    "matriz_total_meses"
   ]
  },
  {
   "cell_type": "markdown",
   "metadata": {},
   "source": []
  }
 ],
 "metadata": {
  "kernelspec": {
   "display_name": "R",
   "language": "R",
   "name": "ir"
  },
  "language_info": {
   "codemirror_mode": "r",
   "file_extension": ".r",
   "mimetype": "text/x-r-source",
   "name": "R",
   "pygments_lexer": "r",
   "version": "4.3.1"
  }
 },
 "nbformat": 4,
 "nbformat_minor": 2
}
